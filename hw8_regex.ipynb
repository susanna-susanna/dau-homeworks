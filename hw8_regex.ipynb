{
  "nbformat": 4,
  "nbformat_minor": 0,
  "metadata": {
    "colab": {
      "provenance": [],
      "authorship_tag": "ABX9TyOY/REPbPSwi+hYZl2bcXx/",
      "include_colab_link": true
    },
    "kernelspec": {
      "name": "python3",
      "display_name": "Python 3"
    },
    "language_info": {
      "name": "python"
    }
  },
  "cells": [
    {
      "cell_type": "markdown",
      "metadata": {
        "id": "view-in-github",
        "colab_type": "text"
      },
      "source": [
        "<a href=\"https://colab.research.google.com/github/susanna-susanna/dau-homeworks/blob/main/hw8_regex.ipynb\" target=\"_parent\"><img src=\"https://colab.research.google.com/assets/colab-badge.svg\" alt=\"Open In Colab\"/></a>"
      ]
    },
    {
      "cell_type": "markdown",
      "source": [
        "##Задание 1\n",
        "Напишите функцию, которая принимает на вход строку и проверяет, является ли она валидным транспортным номером (1 буква, 3 цифры, 2 буквы, 2–3 цифры). Обратите внимание, что не все буквы кириллического алфавита используются в транспортных номерах.\n",
        "\n",
        "Если номер валиден, то функция должна возвращать отдельно номер и регион.\n",
        "\n",
        "Примеры работы программы:\n",
        "\n",
        "car_id = 'A222BC96’\n",
        "Результат: Номер A222BС валиден. Регион: 96\n",
        "\n",
        "car_id = 'АБ22ВВ193’\n",
        "Результат: Номер не валиден"
      ],
      "metadata": {
        "id": "F1dk_9Xk-n_R"
      }
    },
    {
      "cell_type": "markdown",
      "source": [
        "Внимание: при реализации всех заданий необходимо использовать именно функционал регулярных выражений для обработки текста."
      ],
      "metadata": {
        "id": "is4eOsBQ-qvd"
      }
    },
    {
      "cell_type": "code",
      "source": [
        "import re"
      ],
      "metadata": {
        "id": "4GA8-xsCuQao"
      },
      "execution_count": null,
      "outputs": []
    },
    {
      "cell_type": "code",
      "source": [
        "def is_valid(car_number):\n",
        "    # pattern = r'([А, В, Е, К, М, Н, О, Р, С, Т, У, Х]{1})([1-9]{3})([А, В, Е, К, М, Н, О, Р, С, Т, У, Х]{2})(\\d{2})'\n",
        "    # без $ не подходит. 'А222ВС91235' без $ проходит, как валидный\n",
        "    pattern = r'([А, В, Е, К, М, Н, О, Р, С, Т, У, Х]{1})([1-9]{3})([А, В, Е, К, М, Н, О, Р, С, Т, У, Х]{2})(\\d{2}$)'\n",
        "    valid = re.findall(pattern, car_number)\n",
        "    if len(valid) > 0:\n",
        "        return f'Результат: Номер {valid[0][0]+valid[0][1]+valid[0][2]} валиден. Регион: {valid[0][-1]}' \n",
        "    else:\n",
        "        return 'Результат: Номер не валиден'\n",
        "    \n",
        "\n",
        "\n",
        "car_number_1 = 'А222ВС95'\n",
        "print(is_valid(car_number_1))\n",
        "\n",
        "\n",
        "car_number_2 = 'А222ВС91235'\n",
        "print(is_valid(car_number_2))\n",
        "                  \n",
        "\n",
        "car_number_3 = 'АБ22ВВ193'\n",
        "print(is_valid(car_number_3))"
      ],
      "metadata": {
        "colab": {
          "base_uri": "https://localhost:8080/"
        },
        "id": "6ybecC9Xx9sR",
        "outputId": "a5520d1c-9002-4e5b-8c19-63143543653b"
      },
      "execution_count": null,
      "outputs": [
        {
          "output_type": "stream",
          "name": "stdout",
          "text": [
            "Результат: Номер А222ВС валиден. Регион: 95\n",
            "Результат: Номер не валиден\n",
            "Результат: Номер не валиден\n"
          ]
        }
      ]
    },
    {
      "cell_type": "markdown",
      "source": [
        "##Задание 2\n",
        "Напишите функцию, которая будет удалять все последовательные повторы слов из заданной строки при помощи регулярных выражений.\n",
        "\n",
        "Пример работы программы:\n",
        "\n",
        "some_string = ‘Напишите функцию функцию, которая будет будет будет будет удалять все все все все последовательные повторы слов из из из из заданной строки строки при помощи регулярных выражений.’\n",
        "\n",
        "Результат:\n",
        "Напишите функцию, которая будет удалять все последовательные повторы слов из заданной строки при помощи регулярных выражений."
      ],
      "metadata": {
        "id": "ChbyGdQl_Cop"
      }
    },
    {
      "cell_type": "code",
      "source": [
        "some_string = \"\"\"Напишите функцию функцию, которая будет будет будет будет\n",
        "удалять все все все все все последовательные повторы слов из из из из \n",
        "заданной строки строки при помощи регулярных выражений.\"\"\""
      ],
      "metadata": {
        "id": "v7uPYSKXHQZ3"
      },
      "execution_count": null,
      "outputs": []
    },
    {
      "cell_type": "code",
      "source": [
        "re.sub(r'(\\w+)(\\s)\\1+', r'\\1', some_string) #эта запись удаляет только дубли. Триплы, кватры,.. она не убирает(("
      ],
      "metadata": {
        "colab": {
          "base_uri": "https://localhost:8080/",
          "height": 35
        },
        "id": "7IxoFqI-HzJZ",
        "outputId": "2b3be6b6-07f2-401e-c68a-7615cad2e5db"
      },
      "execution_count": null,
      "outputs": [
        {
          "output_type": "execute_result",
          "data": {
            "text/plain": [
              "'Напишите функцию, которая будет будет\\nудалять все все все последовательные повторы слов из из \\nзаданной строки при помощи регулярных выражений.'"
            ],
            "application/vnd.google.colaboratory.intrinsic+json": {
              "type": "string"
            }
          },
          "metadata": {},
          "execution_count": 29
        }
      ]
    },
    {
      "cell_type": "code",
      "source": [
        "re.sub(r'(\\w+)(\\s\\1)+', r'\\1', some_string) #эта запись удаляет ВСЕ повторы. То, что нужно"
      ],
      "metadata": {
        "colab": {
          "base_uri": "https://localhost:8080/",
          "height": 35
        },
        "id": "cZDluU9ZHy3Q",
        "outputId": "5eada5b8-750a-47bb-9013-511b38e9552f"
      },
      "execution_count": null,
      "outputs": [
        {
          "output_type": "execute_result",
          "data": {
            "text/plain": [
              "'Напишите функцию, которая будет\\nудалять все последовательные повторы слов из \\nзаданной строки при помощи регулярных выражений.'"
            ],
            "application/vnd.google.colaboratory.intrinsic+json": {
              "type": "string"
            }
          },
          "metadata": {},
          "execution_count": 26
        }
      ]
    },
    {
      "cell_type": "code",
      "source": [
        "def del_double(my_string):\n",
        "  return re.sub(r'(\\w+)(\\s+\\1)+', r'\\1', some_string)\n",
        "\n",
        "\n",
        "del_double(some_string)"
      ],
      "metadata": {
        "colab": {
          "base_uri": "https://localhost:8080/",
          "height": 35
        },
        "id": "LUt09zEl7BiK",
        "outputId": "d5666546-4a4b-419e-c897-44469620a522"
      },
      "execution_count": null,
      "outputs": [
        {
          "output_type": "execute_result",
          "data": {
            "text/plain": [
              "'Напишите функцию, которая будет\\nудалять все последовательные повторы слов из \\nзаданной строки при помощи регулярных выражений.'"
            ],
            "application/vnd.google.colaboratory.intrinsic+json": {
              "type": "string"
            }
          },
          "metadata": {},
          "execution_count": 27
        }
      ]
    },
    {
      "cell_type": "markdown",
      "source": [
        "##Задание 3\n",
        "Напишите функцию, которая будет возвращать акроним по переданной в неё строке со словами.\n",
        "\n",
        "Примеры работы программы:\n",
        "\n",
        "some_words = 'Информационные технологии’\n",
        "\n",
        "Результат: ИТ\n",
        "\n",
        "some_words = 'Near Field Communication’\n",
        "\n",
        "Результат: NFC"
      ],
      "metadata": {
        "id": "zTqc3EGi_OyW"
      }
    },
    {
      "cell_type": "code",
      "source": [
        "some_words_1 = 'Информационные технологии'\n",
        "some_words_2 = 'Near Field Communication'"
      ],
      "metadata": {
        "id": "OOthW_xWyVVx"
      },
      "execution_count": null,
      "outputs": []
    },
    {
      "cell_type": "code",
      "source": [
        "def acronim(string):\n",
        "    return (''.join(re.findall(r'\\b\\w{1}', string))).upper()"
      ],
      "metadata": {
        "id": "54pGWKa8Rzhh"
      },
      "execution_count": null,
      "outputs": []
    },
    {
      "cell_type": "code",
      "source": [
        "# совет Олега\n",
        "def acronym(word):\n",
        "   return re.sub(r\"(\\w)\\w+\\s?\", r\"\\1\", word).upper()"
      ],
      "metadata": {
        "id": "tv_ICjZ3ONz-"
      },
      "execution_count": null,
      "outputs": []
    },
    {
      "cell_type": "code",
      "source": [
        "acronim(some_words_1)\n",
        "acronim(some_words_2)"
      ],
      "metadata": {
        "id": "QyA55iV-yYwZ",
        "colab": {
          "base_uri": "https://localhost:8080/",
          "height": 35
        },
        "outputId": "c77fa566-c69b-4989-f886-f091829e0750"
      },
      "execution_count": null,
      "outputs": [
        {
          "output_type": "execute_result",
          "data": {
            "text/plain": [
              "'NFC'"
            ],
            "application/vnd.google.colaboratory.intrinsic+json": {
              "type": "string"
            }
          },
          "metadata": {},
          "execution_count": 55
        }
      ]
    },
    {
      "cell_type": "code",
      "source": [
        "acronym(some_words_1)\n",
        "acronym(some_words_2)"
      ],
      "metadata": {
        "colab": {
          "base_uri": "https://localhost:8080/",
          "height": 35
        },
        "id": "1GLnViDjOUou",
        "outputId": "e1f846f9-c5fd-497c-8148-e656e60805ea"
      },
      "execution_count": null,
      "outputs": [
        {
          "output_type": "execute_result",
          "data": {
            "text/plain": [
              "'NFC'"
            ],
            "application/vnd.google.colaboratory.intrinsic+json": {
              "type": "string"
            }
          },
          "metadata": {},
          "execution_count": 56
        }
      ]
    },
    {
      "cell_type": "markdown",
      "source": [
        "Задание 4\n",
        "Напишите функцию, которая будет принимать на вход список email-адресов и выводить их распределение по доменным зонам.\n",
        "\n",
        "Пример работы программы:\n",
        "\n",
        "`emails = [‘test@gmail.com’, ‘xyz@test.in’, ‘test@ya.ru’, ‘xyz@mail.ru’, ‘xyz@ya.ru’, ‘xyz@gmail.com’]`\n",
        "\n",
        "Результат:\n",
        "```\n",
        "gmail.com: 2\n",
        "test.in: 1\n",
        "ya.ru: 2\n",
        "mail.ru: 1\n",
        "```"
      ],
      "metadata": {
        "id": "GhLl-hVj_WI5"
      }
    },
    {
      "cell_type": "code",
      "source": [
        "emails = ['test@gmail.com', 'xyz@test.in', 'test@ya.ru', 'xyz@mail.ru', 'xyz@ya.ru', 'xyz@gmail.com']"
      ],
      "metadata": {
        "id": "e33ZO8wLycgO"
      },
      "execution_count": null,
      "outputs": []
    },
    {
      "cell_type": "code",
      "source": [
        "def distribute(e_list):\n",
        "    email_count = []\n",
        "    for emal in e_list:\n",
        "        email_count.append((re.findall(r'\\w+\\.\\w+$', emal))[0])\n",
        "\n",
        "    for e_count in set(email_count):\n",
        "        print(f'{e_count}: {email_count.count(e_count)}')\n",
        "\n",
        "distribute(emails)"
      ],
      "metadata": {
        "colab": {
          "base_uri": "https://localhost:8080/"
        },
        "id": "fG3Rrd-DPdqr",
        "outputId": "e55aa6dc-59e1-470a-a1a7-b33c4a189e50"
      },
      "execution_count": null,
      "outputs": [
        {
          "output_type": "stream",
          "name": "stdout",
          "text": [
            "mail.ru: 1\n",
            "ya.ru: 2\n",
            "test.in: 1\n",
            "gmail.com: 2\n"
          ]
        }
      ]
    },
    {
      "cell_type": "markdown",
      "source": [
        "##Задание 5 (необязательное)\n",
        "\n",
        "Напишите функцию, которая будет подсчитывать, сколько слов начинается на гласные, а сколько на согласные буквы в тексте. \n",
        "\n",
        "Текст может быть написан с использованием букв как кириллицы, так и латиницы.\n",
        "\n",
        "Пример работы программы:\n",
        "\n",
        "`some_text = ‘Эталонной реализацией Python является интерпретатор CPython, поддерживающий большинство активно используемых платформ. Он распространяется под свободной лицензией Python Software Foundation License, позволяющей использовать его без ограничений в любых приложениях, включая проприетарные.’`\n",
        "\n",
        "Результат:\n",
        "\n",
        "Слов на гласные буквы: 9\n",
        "\n",
        "Слов на согласные буквы: 21"
      ],
      "metadata": {
        "id": "kkae5iIL_hTT"
      }
    },
    {
      "cell_type": "code",
      "source": [
        "some_text = \"\"\"Эталонной реализацией Python является интерпретатор CPython, \n",
        "поддерживающий большинство активно используемых платформ. \n",
        "Он распространяется под свободной лицензией Python Software Foundation License, \n",
        "позволяющей использовать его без ограничений в любых приложениях, включая проприетарные.\"\"\""
      ],
      "metadata": {
        "id": "ClciTlx6wOoL"
      },
      "execution_count": 5,
      "outputs": []
    },
    {
      "cell_type": "code",
      "source": [
        "vowels = '[АЕЁИОУЫЭЮЯAEIOU]'\n",
        "consonants = '[БВГДЖЗЙКЛМНПРСТФХЦЧШЩBCDFGHJKLMNPQRSTVWXYZ]'\n",
        "\n",
        "def count_liter(my_str):\n",
        "    vowel = re.findall(fr'\\b{vowels}', my_str, flags=re.IGNORECASE)\n",
        "    consonant = re.findall(fr'\\b{consonants}', my_str, flags=re.IGNORECASE)\n",
        "\n",
        "    # print(len(vowel), \"\", len(consonant))\n",
        "\n",
        "    print(f'Слов на гласные буквы: {len(vowel)}')\n",
        "    print(f'Слов на согласные буквы: {len(consonant)}') "
      ],
      "metadata": {
        "id": "rebugvljxhEQ"
      },
      "execution_count": 15,
      "outputs": []
    },
    {
      "cell_type": "code",
      "source": [
        "count_liter(some_text)"
      ],
      "metadata": {
        "colab": {
          "base_uri": "https://localhost:8080/"
        },
        "id": "gd9-l6hOzseW",
        "outputId": "defd71b1-523a-4156-af4a-2d3494ea5165"
      },
      "execution_count": 16,
      "outputs": [
        {
          "output_type": "stream",
          "name": "stdout",
          "text": [
            "Слов на гласные буквы: 9\n",
            "Слов на согласные буквы: 21\n"
          ]
        }
      ]
    },
    {
      "cell_type": "markdown",
      "source": [
        "##Задание 6 (необязательное)\n",
        "\n",
        "Напишите функцию, которая будет проверять номер сотового телефона на валидность, только для российского формата. Если он валиден, то переводить его в формат:\n",
        "+7-xxx-xxx-xx-xx\n",
        "\n",
        "Постарайтесь предусмотреть как можно больше адекватных форматов изначального ввода номера. \n",
        "\n",
        "Примеры работы программы:\n",
        "```\n",
        "phone = '+7 955 555-55-55’\n",
        "Результат: +7-955-555-55-55\n",
        "\n",
        "phone = '8(955)555-55-55’\n",
        "Результат: +7-955-555-55-55\n",
        "\n",
        "phone = '+7 955 555 55 55’\n",
        "Результат: +7-955-555-55-55\n",
        "\n",
        "phone = '7(955) 555-55-55’\n",
        "Результат: +7-955-555-55-55\n",
        "\n",
        "phone = '423-555-55-5555’\n",
        "Результат: Номер не валиден\n",
        "\n",
        "phone = '123-456-789’\n",
        "Результат: Номер не валиден\n",
        "```"
      ],
      "metadata": {
        "id": "MoKn4x7b_tQ3"
      }
    },
    {
      "cell_type": "code",
      "source": [
        "phones = ['+7 955 555-55-55', '8(955)555-55-55', '+7 955 555 55 55', '7(955) 555-55-55', '423-555-55-5555', '123-456-789']"
      ],
      "metadata": {
        "id": "Ho4mS36PM1nA"
      },
      "execution_count": 2,
      "outputs": []
    },
    {
      "cell_type": "code",
      "source": [
        "re.findall(r'^[\\D]?[7|8][\\D+]?(\\d{3})[\\D+]?(\\d{3})[\\D+]?(\\d{2})[\\D+]?(\\d{2})$', phones[3]) \n",
        "#без [\\s+]? на phones[3] показывает невалидность. На остальных норм"
      ],
      "metadata": {
        "colab": {
          "base_uri": "https://localhost:8080/"
        },
        "id": "JYFxt-V7a-dA",
        "outputId": "be2c7fa6-45cd-4e5d-a492-879e5192ee94"
      },
      "execution_count": 26,
      "outputs": [
        {
          "output_type": "execute_result",
          "data": {
            "text/plain": [
              "[]"
            ]
          },
          "metadata": {},
          "execution_count": 26
        }
      ]
    },
    {
      "cell_type": "code",
      "source": [
        "re.findall(r'^[\\D]?[7|8][\\D+]?(\\d{3})[\\D+]?[\\s+]?(\\d{3})[\\D+]?(\\d{2})[\\D+]?(\\d{2})$', phones[3])"
      ],
      "metadata": {
        "colab": {
          "base_uri": "https://localhost:8080/"
        },
        "id": "DrKtimiMM1Qp",
        "outputId": "f55670fa-410f-4fa6-dcb9-e8b86407453d"
      },
      "execution_count": 17,
      "outputs": [
        {
          "output_type": "execute_result",
          "data": {
            "text/plain": [
              "[('955', '555', '55', '55')]"
            ]
          },
          "metadata": {},
          "execution_count": 17
        }
      ]
    },
    {
      "cell_type": "code",
      "source": [
        "def validator(number):\n",
        "    is_valid = re.findall(r'^[\\D]?[7|8][\\D+]?(\\d{3})[\\D+]?[\\s+]?(\\d{3})[\\D+]?(\\d{2})[\\D+]?(\\d{2})$', number)\n",
        "\n",
        "    if is_valid:\n",
        "        print(f'Результат: +7-{is_valid[0][0]}-{is_valid[0][1]}-{is_valid[0][2]}-{is_valid[0][3]}')\n",
        "    else:\n",
        "        print('Номер не валиден')"
      ],
      "metadata": {
        "id": "Qxq5e7kvbpAY"
      },
      "execution_count": 27,
      "outputs": []
    },
    {
      "cell_type": "code",
      "source": [
        "for number in phones:\n",
        "    print(number)\n",
        "    validator(number)\n",
        "    print('')"
      ],
      "metadata": {
        "colab": {
          "base_uri": "https://localhost:8080/"
        },
        "id": "Jlhh96kLc4O1",
        "outputId": "b4c9c9a4-35b4-4ed7-93bd-b56d3f3e01ea"
      },
      "execution_count": 30,
      "outputs": [
        {
          "output_type": "stream",
          "name": "stdout",
          "text": [
            "+7 955 555-55-55\n",
            "Результат: +7-955-555-55-55\n",
            "\n",
            "8(955)555-55-55\n",
            "Результат: +7-955-555-55-55\n",
            "\n",
            "+7 955 555 55 55\n",
            "Результат: +7-955-555-55-55\n",
            "\n",
            "7(955) 555-55-55\n",
            "Результат: +7-955-555-55-55\n",
            "\n",
            "423-555-55-5555\n",
            "Номер не валиден\n",
            "\n",
            "123-456-789\n",
            "Номер не валиден\n",
            "\n"
          ]
        }
      ]
    },
    {
      "cell_type": "markdown",
      "source": [
        "##Полезные ссылки\n",
        "\n",
        "[Colab с занятия](https://colab.research.google.com/drive/1BflO9l8hHzbIu0dSfqRckHXGhZkoWVol#scrollTo=o_ZyaXIr7oBW&uniqifier=1)\n",
        "\n",
        "[Сортировка списков](https://www.programiz.com/python-programming/methods/list/sort)\n",
        "\n",
        "[Python RegEx: практическое применение регулярок](https://tproger.ru/translations/regular-expression-python/)"
      ],
      "metadata": {
        "id": "od9PqqGuVeip"
      }
    }
  ]
}