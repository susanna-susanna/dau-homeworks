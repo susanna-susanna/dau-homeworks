{
  "metadata": {
    "language_info": {
      "codemirror_mode": {
        "name": "ipython",
        "version": 3
      },
      "file_extension": ".py",
      "mimetype": "text/x-python",
      "name": "python",
      "nbconvert_exporter": "python",
      "pygments_lexer": "ipython3",
      "version": "3.9.2-final"
    },
    "orig_nbformat": 2,
    "kernelspec": {
      "name": "python3",
      "display_name": "Python 3.9.2 64-bit",
      "metadata": {
        "interpreter": {
          "hash": "dcacb0086e9a4f4eabd41c33bf4faac5ea0a3337ed3f5eff0680afa930572c04"
        }
      }
    },
    "colab": {
      "provenance": [],
      "include_colab_link": true
    }
  },
  "nbformat": 4,
  "nbformat_minor": 0,
  "cells": [
    {
      "cell_type": "markdown",
      "metadata": {
        "id": "view-in-github",
        "colab_type": "text"
      },
      "source": [
        "<a href=\"https://colab.research.google.com/github/susanna-susanna/dau-homeworks/blob/main/hw_1_%D0%9E%D1%81%D0%BD%D0%BE%D0%B2%D1%8B_Python.ipynb\" target=\"_parent\"><img src=\"https://colab.research.google.com/assets/colab-badge.svg\" alt=\"Open In Colab\"/></a>"
      ]
    },
    {
      "cell_type": "markdown",
      "source": [
        "Ноутбук с лекции practice_1_29_03_22\n",
        "\n",
        "https://colab.research.google.com/drive/1cyVcgGMpbKQx3-iMywZVvb-KzEuz-8zZ#scrollTo=yeFs_dLk5YJW"
      ],
      "metadata": {
        "id": "xU6BuyHbzlQL"
      }
    },
    {
      "source": [
        "###Задача 1\n",
        "\n",
        "Задание 1\n",
        "Даны 2 переменных, в которых хранятся строки произвольной длины: phrase_1 и phrase_2.\n",
        "Напишите код, который проверяет какая из этих строк длиннее.\n",
        "\n",
        "Примеры работы программы:\n",
        "\n",
        "phrase_1 = 'Насколько проще было бы писать программы, если бы не заказчики’\n",
        "phrase_2 = '640Кб должно хватить для любых задач. Билл Гейтс (по легенде)'\n",
        "Результат:\n",
        "Фраза 1 длиннее фразы 2\n",
        "\n",
        "phrase_1 = '640Кб должно хватить для любых задач. Билл Гейтс (по легенде)'\n",
        "phrase_2 = 'Насколько проще было бы писать программы, если бы не заказчики’\n",
        "Результат:\n",
        "Фраза 2 длиннее фразы 1\n",
        "\n",
        "phrase_1 = 'Насколько проще было бы писать программы, если бы не заказчики’\n",
        "phrase_2 = 'Насколько проще было бы писать программы, если бы не заказчики’\n",
        "Результат:\n",
        "Фразы равной длины"
      ],
      "cell_type": "markdown",
      "metadata": {
        "id": "hNLqz0dWcNZp"
      }
    },
    {
      "cell_type": "code",
      "execution_count": null,
      "metadata": {
        "id": "Xo_VcQmQcNZ0",
        "outputId": "a08f228e-b129-4711-c72c-3e5d189b600c"
      },
      "outputs": [
        {
          "output_type": "stream",
          "name": "stdout",
          "text": [
            "Фраза 2 длиннее фразы 1\n"
          ]
        }
      ],
      "source": [
        "phrase_1 = 'Моя фраза длинее?'\n",
        "phrase_2 = input('Введите свою фразу')\n",
        "\n",
        "if len(phrase_1) > len(phrase_2):\n",
        "    print('Фраза 1 длиннее фразы 2')\n",
        "elif len(phrase_1) < len(phrase_2):\n",
        "    print('Фраза 2 длиннее фразы 1')\n",
        "elif len(phrase_1) == len(phrase_2):\n",
        "    print('Фразы равной длины')\n",
        "else:\n",
        "    print('Неизвестное науке событие')"
      ]
    },
    {
      "cell_type": "code",
      "source": [
        "phrase_1 = 'Насколько проще было бы писать программы, если бы не заказчики'\n",
        "phrase_2 = '640Кб должно хватить для любых задач. Билл Гейтс (по легенде)'\n",
        "\n",
        "if len(phrase_1) > len(phrase_2):\n",
        "  print('Фраза 1 длиннее фразы 2')\n",
        "elif len(phrase_2) > len(phrase_1):\n",
        "  print('Фраза 2 длиннее фразы 1')\n",
        "elif len(phrase_1) == len(phrase_2):\n",
        "    print('Фразы равной длины')\n",
        "else:\n",
        "    print('Неизвестное науке событие')"
      ],
      "metadata": {
        "colab": {
          "base_uri": "https://localhost:8080/"
        },
        "id": "33EYvSUghhVu",
        "outputId": "b2cdd91a-ac29-462d-983b-34f9f3591711"
      },
      "execution_count": null,
      "outputs": [
        {
          "output_type": "stream",
          "name": "stdout",
          "text": [
            "Фраза 1 длиннее фразы 2\n"
          ]
        }
      ]
    },
    {
      "source": [
        "###Задача 2\n",
        "Дана переменная, в которой хранится четырехзначное число (год). Необходимо написать программу, которая выведет, является ли данный год високосным или обычным.\n",
        "\n",
        "Пример работы программы:\n",
        "\n",
        "year = 2020\n",
        "Результат:\n",
        "Високосный год\n",
        "\n",
        "year = 2019\n",
        "Результат:\n",
        "Обычный год"
      ],
      "cell_type": "markdown",
      "metadata": {
        "id": "qTcSooKRcNZ7"
      }
    },
    {
      "cell_type": "code",
      "execution_count": null,
      "metadata": {
        "id": "Cyb7-ERbcNZ7",
        "outputId": "f5f38894-e203-4f7e-a429-b1144dda2290"
      },
      "outputs": [
        {
          "output_type": "stream",
          "name": "stdout",
          "text": [
            "Обычный год\n"
          ]
        }
      ],
      "source": [
        "year = int(input('Введите год'))\n",
        "\n",
        "if (year%4 == 0 and year%100 != 0) or (year%4 == 0 and year%400 ==0):\n",
        "    print('Високосный год')\n",
        "else:\n",
        "    print('Обычный год')"
      ]
    },
    {
      "cell_type": "code",
      "source": [
        "year = 1904\n",
        "\n",
        "if year%4 == 0 and year%400 == 0:\n",
        "  print('Високосный год')\n",
        "elif year%4 ==0 and year%100 != 0:\n",
        "  print('Високосный год')\n",
        "else: print('Обычный год')"
      ],
      "metadata": {
        "colab": {
          "base_uri": "https://localhost:8080/"
        },
        "id": "YNxSQyg8hz-B",
        "outputId": "4143d360-6fc6-44a8-d429-cee008d5f661"
      },
      "execution_count": null,
      "outputs": [
        {
          "output_type": "stream",
          "name": "stdout",
          "text": [
            "Високосный год\n"
          ]
        }
      ]
    },
    {
      "source": [
        "###Задание 3\n",
        "Необходимо написать программу, которая будет запрашивать у пользователя месяц и дату рождения и выводить соответствующий знак зодиака.\n",
        "\n",
        "Пример работы программы:\n",
        "\n",
        "Введите день:\n",
        "30\n",
        "\n",
        "Введите месяц:\n",
        "Август\n",
        "\n",
        "Результат:\n",
        "Ваш знак зодиака: Дева\n",
        "\n",
        "Введите день:\n",
        "29\n",
        "\n",
        "Введите месяц:\n",
        "Октябрь\n",
        "\n",
        "Результат:\n",
        "Ваш знак зодиака: Скорпион\n",
        "\n",
        "============================================\n",
        "\n",
        "Работа с датами https://metanit.com/python/tutorial/8.1.php\n",
        "\n",
        "today.day, today.month\n",
        "\n",
        "( 21, 3)"
      ],
      "cell_type": "markdown",
      "metadata": {
        "id": "mRWLju9kcNZ8"
      }
    },
    {
      "cell_type": "code",
      "execution_count": null,
      "metadata": {
        "id": "LYCNgr_wcNZ9",
        "outputId": "85c65ed4-68d3-4dc0-cc19-3ef81ba320ad"
      },
      "outputs": [
        {
          "output_type": "stream",
          "name": "stdout",
          "text": [
            "Козерог\n"
          ]
        }
      ],
      "source": [
        "users_day = int(input('Введите день своего рождения'))\n",
        "users_month = input('Введите месяц своего рождения в именительном падеже с заглавной буквы')\n",
        "\n",
        "if (users_day > 20 and users_month == \"Март\") or (users_day <= 20 and users_month == \"Апрель\"):\n",
        "    print('Овен')\n",
        "elif (users_day > 20 and users_month == \"Апрель\") or (users_day <= 21 and users_month == \"Май\"):\n",
        "    print('Телец')\n",
        "elif (users_day > 22 and users_month == \"Май\") or (users_day <= 21 and users_month == \"Июнь\"):\n",
        "    print('Близнецы')\n",
        "elif (users_day > 22 and users_month == \"Июнь\") or (users_day <= 22 and users_month == \"Июль\"):\n",
        "    print('Рак')\n",
        "elif (users_day > 23 and users_month == \"Июль\") or (users_day <= 23 and users_month == \"Август\"):\n",
        "    print('Лев')\n",
        "elif (users_day > 24 and users_month == \"Август\") or (users_day <= 23 and users_month == \"Сентябрь\"):\n",
        "    print('Дева')\n",
        "elif (users_day > 24 and users_month == \"Сентябрь\") or (users_day <= 23 and users_month == \"Октябрь\"):\n",
        "    print('Весы')\n",
        "elif (users_day > 24 and users_month == \"Октябрь\") or (users_day <= 22 and users_month == \"Ноябрь\"):\n",
        "    print('Скорпион')\n",
        "elif (users_day > 23 and users_month == \"Ноябрь\") or (users_day <= 22 and users_month == \"Декабрь\"):\n",
        "    print('Стрелец')\n",
        "elif (users_day > 23 and users_month == \"Декабрь\") or (users_day <= 20 and users_month == \"Январь\"):\n",
        "    print('Козерог')\n",
        "elif (users_day > 21 and users_month == \"Январь\") or (users_day <= 19 and users_month == \"Февраль\"):\n",
        "    print('Водолей')\n",
        "elif (users_day > 20 and users_month == \"Февраль\") or (users_day <= 20 and users_month == \"Март\"):\n",
        "    print('Рыбы')\n",
        "else:\n",
        "    print('Убедитесь в правильности написания ваших данных')"
      ]
    },
    {
      "cell_type": "markdown",
      "source": [
        "А так можно?)"
      ],
      "metadata": {
        "id": "-yn4sKl8iWTY"
      }
    },
    {
      "cell_type": "code",
      "source": [
        "from datetime import date\n",
        "\n",
        "today = date.today()\n",
        "print(today)"
      ],
      "metadata": {
        "colab": {
          "base_uri": "https://localhost:8080/"
        },
        "id": "7UzNDSMkiJgB",
        "outputId": "8645bcba-9623-4afe-b5aa-16bdb0d02bd0"
      },
      "execution_count": null,
      "outputs": [
        {
          "output_type": "stream",
          "name": "stdout",
          "text": [
            "2022-03-22\n"
          ]
        }
      ]
    },
    {
      "cell_type": "markdown",
      "source": [],
      "metadata": {
        "id": "ROIxUY23i_xx"
      }
    },
    {
      "cell_type": "code",
      "source": [
        "date_of_birth = date.today()\n",
        "\n",
        "if (date_of_birth.day >= 21 and date_of_birth.month== 3) or (date_of_birth.day <= 19 and date_of_birth.month == 4):\n",
        "  print('Ваш знак зодиака: Овен')\n",
        "elif (date_of_birth.day >= 20 and date_of_birth.month== 4) or (date_of_birth.day <= 20 and date_of_birth.month == 5):\n",
        "  print('Ваш знак зодиака: Телец')\n",
        "elif (date_of_birth.day >= 21 and date_of_birth.month== 5) or (date_of_birth.day <= 20 and date_of_birth.month == 6):\n",
        "  print('Ваш знак зодиака: Близнецы')\n",
        "elif (date_of_birth.day >= 21 and date_of_birth.month== 6) or (date_of_birth.day <= 22 and date_of_birth.month == 7):\n",
        "  print('Ваш знак зодиака: Рак')\n",
        "elif (date_of_birth.day >= 23 and date_of_birth.month== 7) or (date_of_birth.day <= 22 and date_of_birth.month == 8):\n",
        "  print('Ваш знак зодиака: Лев')\n",
        "elif (date_of_birth.day >= 23 and date_of_birth.month== 8) or (date_of_birth.day <= 22 and date_of_birth.month == 9):\n",
        "  print('Ваш знак зодиака: Дева')\n",
        "elif (date_of_birth.day >= 23 and date_of_birth.month== 9) or (date_of_birth.day <= 22 and date_of_birth.month == 10):\n",
        "  print('Ваш знак зодиака: Весы')\n",
        "elif (date_of_birth.day >= 23 and date_of_birth.month== 10) or (date_of_birth.day <= 21 and date_of_birth.month == 11):\n",
        "  print('Ваш знак зодиака: Скорпион')\n",
        "elif (date_of_birth.day >= 22 and date_of_birth.month== 11) or (date_of_birth.day <= 21 and date_of_birth.month == 12):\n",
        "  print('Ваш знак зодиака: Стрелец')\n",
        "elif (date_of_birth.day >= 22 and date_of_birth.month== 12) or (date_of_birth.day <= 19 and date_of_birth.month == 1):\n",
        "  print('Ваш знак зодиака: Козерог')\n",
        "elif (date_of_birth.day >= 20 and date_of_birth.month== 1) or (date_of_birth.day <= 18 and date_of_birth.month == 2):\n",
        "  print('Ваш знак зодиака: Водолей')\n",
        "else:\n",
        "  # (date_of_birth.day >= 19 and date_of_birth.month== 2) or (date_of_birth.day <= 20 and date_of_birth.month == 3):\n",
        "  print('Ваш знак зодиака: Рыбы')"
      ],
      "metadata": {
        "colab": {
          "base_uri": "https://localhost:8080/"
        },
        "id": "PJ0YTFOXiSyA",
        "outputId": "36e397f1-4d9f-4cbb-c361-2cc7db6ab3e7"
      },
      "execution_count": null,
      "outputs": [
        {
          "output_type": "stream",
          "name": "stdout",
          "text": [
            "Ваш знак зодиака: Овен\n"
          ]
        }
      ]
    },
    {
      "source": [
        "###Задача 4\n",
        "Вам нужно написать программу для подбора упаковок по размерам товара. Размеры (ширина, длина, высота) хранятся в переменных (в сантиметрах):\n",
        "\n",
        "Используйте следующие правила:\n",
        "\n",
        "если каждое из трех измерений менее или равно 15 сантиметрам, то выведите на экран “Коробка №1”;\n",
        "если хотя бы одно из измерений больше 15 сантиметров, но менее 50 сантиметров, то выводите “Коробка №2”;\n",
        "если длина товара больше 2 метров, то выводите “Упаковка для лыж”;\n",
        "во всех остальных случаях выводите “Стандартная коробка №3”.\n",
        "Пример работы программы:\n",
        "width = 15\n",
        "length = 50\n",
        "height = 15\n",
        "Результат:\n",
        "Стандартная коробка №3\n",
        "\n",
        "width = 45\n",
        "length = 205\n",
        "height = 45\n",
        "Результат:\n",
        "Ищите упаковку для лыж"
      ],
      "cell_type": "markdown",
      "metadata": {
        "id": "HeL1qjngcNaA"
      }
    },
    {
      "cell_type": "code",
      "execution_count": null,
      "metadata": {
        "colab": {
          "base_uri": "https://localhost:8080/"
        },
        "id": "WQewlSrucNaB",
        "outputId": "0c288425-5c05-4725-ba6b-3cb03bcc06df"
      },
      "outputs": [
        {
          "output_type": "stream",
          "name": "stdout",
          "text": [
            "Стандартная коробка №3\n"
          ]
        }
      ],
      "source": [
        "width = 15\n",
        "length = 50\n",
        "height = 15\n",
        "\n",
        "if (width < 15 and length < 15 and height < 15):\n",
        "    print('Коробка №1')\n",
        "elif (width > 15 and width < 50) or (length > 15 and length < 50) or (height > 15 and height < 50):\n",
        "    print('Коробка №2')\n",
        "elif length > 200:\n",
        "    print('Упаковка для лыж')\n",
        "else:\n",
        "    print('Стандартная коробка №3')"
      ]
    },
    {
      "source": [
        "###Задание 5 (необязательное)\n",
        "Дана переменная, в которой хранится шестизначное число (номер проездного билета). Напишите программу, которая будет определять, является ли данный билет “счастливым”.\n",
        "Билет считается счастливым, если сумма первых трех цифр совпадает с суммой последних трех цифр номера.\n",
        "\n",
        "Примеры работы программы:\n",
        "\n",
        "1.number = 123456\n",
        "Результат:\n",
        "Несчастливый билет\n",
        "\n",
        "1.number = 123321\n",
        "Результат:\n",
        "Счастливый билет"
      ],
      "cell_type": "markdown",
      "metadata": {
        "id": "86IJdQFocNaC"
      }
    },
    {
      "cell_type": "code",
      "execution_count": null,
      "metadata": {
        "id": "814qHM8rcNaD",
        "outputId": "abb64c12-5eb8-421e-f10b-10b7e3452326"
      },
      "outputs": [
        {
          "output_type": "stream",
          "name": "stdout",
          "text": [
            "НеСчастливый билет\n"
          ]
        }
      ],
      "source": [
        "number = 123322\n",
        "\n",
        "part_6 = number % 10\n",
        "part_5 = (number//10) % 10\n",
        "part_4 = (number//100) % 10\n",
        "part_3 = (number//1000) % 10\n",
        "part_2 = (number//10000) % 10\n",
        "part_1 = number//100000\n",
        "\n",
        "sum_1 = part_1 + part_2 + part_3\n",
        "sum_2 = part_4 + part_5 + part_6\n",
        "\n",
        "if sum_1 == sum_2:\n",
        "    print('Счастливый билет')\n",
        "else:\n",
        "    print('НеСчастливый билет')"
      ]
    },
    {
      "source": [
        "###Задание 6 (необязательное)\n",
        "Напишите программу, которая сможет вычислять площади трех фигур (круг, треугольник и прямоугольник). Тип фигуры запрашиваем через пользовательский ввод, после чего делаем запрос характеристик фигуры:\n",
        "\n",
        "если пользователь выбрал круг, запрашиваем его радиус,\n",
        "если треугольник – длины трех его сторон;\n",
        "если прямоугольник – длины двух его сторон.\n",
        "Пример работы программы:\n",
        "1.\n",
        "Введите тип фигуры:\n",
        "Круг\n",
        "\n",
        "Введите радиус круга:\n",
        "10\n",
        "Результат:\n",
        "Площадь круга: 314.16\n",
        "\n",
        "Введите тип фигуры:\n",
        "Треугольник\n",
        "\n",
        "Введите длину стороны A:\n",
        "2\n",
        "\n",
        "Введите длину стороны B:\n",
        "2\n",
        "\n",
        "Введите длину стороны C:\n",
        "3\n",
        "Результат:\n",
        "Площадь треугольника: 1.98"
      ],
      "cell_type": "markdown",
      "metadata": {
        "id": "8bj5F3jscNaE"
      }
    },
    {
      "cell_type": "code",
      "execution_count": null,
      "metadata": {
        "id": "wDWAi890cNaE",
        "outputId": "747eef42-a7c0-4e34-dbca-3722111e5524"
      },
      "outputs": [
        {
          "output_type": "stream",
          "name": "stdout",
          "text": [
            "Площадь треугольника  6.0\n"
          ]
        }
      ],
      "source": [
        "from math import sqrt\n",
        "users_choose = input('Введите название фигуры в именительном падеже с заглавной буквы')\n",
        "\n",
        "if users_choose == \"Круг\":\n",
        "    radius = int(input('Введите радиус для расчёта S'))\n",
        "    print('Площадь круга ', 3.1415*(radius**2))\n",
        "\n",
        "elif users_choose == \"Треугольник\":\n",
        "    side_1 = int(input('Введите размер первой стороны'))\n",
        "    side_2 = int(input('Введите размер второй стороны'))\n",
        "    side_3 = int(input('Введите размер третьей стороны'))\n",
        "    p = (side_1 + side_2 + side_3) / 2\n",
        "    s_treangle = sqrt(p*(p - side_1)*(p - side_2)*(p -side_3))\n",
        "    print('Площадь треугольника ', s_treangle)\n",
        "\n",
        "elif users_choose == \"Прямоугольник\":\n",
        "    a_side = int(input('Введите размер длины прямоугольника'))\n",
        "    b_side = int(input('Введите размер ширины прямоугольника'))\n",
        "    print('Площадь прямоугольника ', (a_side*b_side))\n",
        "\n",
        "else:\n",
        "    print('Подумаем в следующий раз')\n"
      ]
    }
  ]
}