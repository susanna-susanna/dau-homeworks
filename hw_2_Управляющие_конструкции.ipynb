{
  "metadata": {
    "language_info": {
      "codemirror_mode": {
        "name": "ipython",
        "version": 3
      },
      "file_extension": ".py",
      "mimetype": "text/x-python",
      "name": "python",
      "nbconvert_exporter": "python",
      "pygments_lexer": "ipython3",
      "version": "3.9.2-final"
    },
    "orig_nbformat": 2,
    "kernelspec": {
      "name": "python3",
      "display_name": "Python 3.9.2 64-bit",
      "metadata": {
        "interpreter": {
          "hash": "dcacb0086e9a4f4eabd41c33bf4faac5ea0a3337ed3f5eff0680afa930572c04"
        }
      }
    },
    "colab": {
      "provenance": [],
      "collapsed_sections": [],
      "include_colab_link": true
    }
  },
  "nbformat": 4,
  "nbformat_minor": 0,
  "cells": [
    {
      "cell_type": "markdown",
      "metadata": {
        "id": "view-in-github",
        "colab_type": "text"
      },
      "source": [
        "<a href=\"https://colab.research.google.com/github/susanna-susanna/dau-homeworks/blob/main/hw_2_%D0%A3%D0%BF%D1%80%D0%B0%D0%B2%D0%BB%D1%8F%D1%8E%D1%89%D0%B8%D0%B5_%D0%BA%D0%BE%D0%BD%D1%81%D1%82%D1%80%D1%83%D0%BA%D1%86%D0%B8%D0%B8.ipynb\" target=\"_parent\"><img src=\"https://colab.research.google.com/assets/colab-badge.svg\" alt=\"Open In Colab\"/></a>"
      ]
    },
    {
      "cell_type": "markdown",
      "source": [
        "Ноутбук с лекции practice_1_29_03_22\n",
        "\n",
        "https://colab.research.google.com/drive/1cyVcgGMpbKQx3-iMywZVvb-KzEuz-8zZ#scrollTo=yeFs_dLk5YJW"
      ],
      "metadata": {
        "id": "ud1o4S0Q_CX4"
      }
    },
    {
      "source": [
        "#Задание 1\n",
        "Дана переменная, в которой хранится слово из латинских букв. Напишите код, который выводит на экран:\n",
        "\n",
        "среднюю букву, если число букв в слове нечетное;\n",
        "две средних буквы, если число букв четное.\n",
        "Примеры работы программы:\n",
        "\n",
        "word = 'test'\n",
        "Результат:\n",
        "es\n",
        "\n",
        "word = 'testing'\n",
        "Результат:\n",
        "t"
      ],
      "cell_type": "markdown",
      "metadata": {
        "id": "AzMcQYhD1Rdv"
      }
    },
    {
      "cell_type": "code",
      "source": [
        "word_1 = input('Введите свою фразу: ')\n",
        "long = len(word_1)\n",
        "\n",
        "if long%2 == 1:\n",
        "    print(word_1[long//2])\n",
        "else:\n",
        "    print(word_1[long//2-1], word_1[long//2]) "
      ],
      "metadata": {
        "colab": {
          "base_uri": "https://localhost:8080/"
        },
        "id": "SwX1C9MdSASv",
        "outputId": "aae2f6b0-c4b4-4771-974d-de12bdc8d868"
      },
      "execution_count": null,
      "outputs": [
        {
          "output_type": "stream",
          "name": "stdout",
          "text": [
            "Введите свою фразу: 123456\n",
            "3 4\n"
          ]
        }
      ]
    },
    {
      "cell_type": "markdown",
      "source": [
        "Примечание.\n",
        "\n",
        "При такой операции:\n",
        "\n",
        "`print(word_1[long//(2-1)], word_1[long//2])`\n",
        "вы будете получать ошибку, т.к. первый срез буквально обозначает следующее: возьми длину объекта и раздели на единицу (2-1 всегда будут давать 1). То есть берется индекс по длине объекта, а т.к. любая индексация начинается с 0, то максимальный индекс может быть равен длине объекта минус 1."
      ],
      "metadata": {
        "id": "8SkxkBuAFZHG"
      }
    },
    {
      "source": [
        "#Задание 2\n",
        "Напишите программу, которая последовательно запрашивает у пользователя числа (по одному за раз) и после первого нуля выводит сумму всех ранее введенных чисел."
      ],
      "cell_type": "markdown",
      "metadata": {
        "id": "pBwamkp71Rd3"
      }
    },
    {
      "cell_type": "markdown",
      "source": [
        "*во второй задаче можно было не писать последнее условие, ведь нам после цикла в любом случае нужно вывести сумму;*\n"
      ],
      "metadata": {
        "id": "oNTxcxvdTjyI"
      }
    },
    {
      "cell_type": "code",
      "execution_count": null,
      "metadata": {
        "colab": {
          "base_uri": "https://localhost:8080/"
        },
        "id": "1nPiJua41Rd4",
        "outputId": "475ebc25-711c-4f94-953e-b5dac4dbcc1c"
      },
      "outputs": [
        {
          "output_type": "stream",
          "name": "stdout",
          "text": [
            "Введите число: 1\n",
            "Введите число: 2\n",
            "1\n",
            "Введите число: 3\n",
            "3\n",
            "Введите число: 0\n",
            "6\n"
          ]
        }
      ],
      "source": [
        "initial = 0\n",
        "users_number = int(input('Введите число: '))\n",
        "\n",
        "while users_number != 0:\n",
        "    initial += users_number\n",
        "    users_number = int(input('Введите число: '))\n",
        "    \n",
        "#if users_number == 0:\n",
        "    print(initial)\n"
      ]
    },
    {
      "source": [
        "#Задание 3\n",
        "Мы делаем MVP dating-сервиса, и у нас есть список парней и девушек.\n",
        "Выдвигаем гипотезу: лучшие рекомендации мы получим, если просто отсортируем имена по алфавиту и познакомим людей с одинаковыми индексами после сортировки! Но мы не будем никого знакомить, если кто-то может остаться без пары:\n",
        "\n",
        "Примеры работы программы:\n",
        "1.\n",
        "```\n",
        "boys = [‘Peter’, ‘Alex’, ‘John’, ‘Arthur’, ‘Richard’]\n",
        "girls = [‘Kate’, ‘Liza’, ‘Kira’, ‘Emma’, ‘Trisha’]\n",
        "```\n",
        "\n",
        "Результат:\n",
        "Идеальные пары:\n",
        "```\n",
        "Alex и Emma\n",
        "Arthur и Kate\n",
        "John и Kira\n",
        "Peter и Liza\n",
        "Richard и Trisha\n",
        "\n",
        "```\n",
        "boys = [‘Peter’, ‘Alex’, ‘John’, ‘Arthur’, ‘Richard’, ‘Michael’]\n",
        "girls = [‘Kate’, ‘Liza’, ‘Kira’, ‘Emma’, ‘Trisha’]\n",
        "```\n",
        "Результат:\n",
        "Внимание, кто-то может остаться без пары!\n",
        "```\n"
      ],
      "cell_type": "markdown",
      "metadata": {
        "id": "zoKnMkp41Rd4"
      }
    },
    {
      "cell_type": "markdown",
      "source": [
        "в задаче с парами сортировку так же можно было поместить под условие, чтобы она выполнялась только тогда, когда точно будет необходимо. И можно было использовать цикл for, чтобы не прибегать к вспомогательному счетчику:\n",
        "\n"
      ],
      "metadata": {
        "id": "7paXomlFUgYN"
      }
    },
    {
      "cell_type": "code",
      "source": [
        "#best\n",
        "boys = ['Peter', 'Alex', 'John', 'Arthur', 'Richard']\n",
        "girls = ['Kate', 'Liza', 'Kira', 'Emma', 'Trisha']\n",
        "\n",
        "if len(boys) != len(girls):\n",
        "\tprint('Внимание, кто-то может остаться без пары!')\n",
        "else:\n",
        "\tprint('Идеальные пары:')\n",
        "\tfor boy, girl in zip(sorted(boys), sorted(girls)):\n",
        "\t\tprint(f'{boy} и {girl}')\n"
      ],
      "metadata": {
        "colab": {
          "base_uri": "https://localhost:8080/"
        },
        "id": "LqV5yL-qU7Nw",
        "outputId": "b2925830-72f1-42f9-deee-4ee4f860bb3e"
      },
      "execution_count": null,
      "outputs": [
        {
          "output_type": "stream",
          "name": "stdout",
          "text": [
            "Идеальные пары:\n",
            "Alex и Emma\n",
            "Arthur и Kate\n",
            "John и Kira\n",
            "Peter и Liza\n",
            "Richard и Trisha\n"
          ]
        }
      ]
    },
    {
      "cell_type": "code",
      "execution_count": null,
      "metadata": {
        "id": "m3RVvwDt1Rd5",
        "outputId": "f1b3382d-6212-4aa9-dac0-22dba929c229",
        "colab": {
          "base_uri": "https://localhost:8080/"
        }
      },
      "outputs": [
        {
          "output_type": "stream",
          "name": "stdout",
          "text": [
            "Идеальные пары:\n",
            "Alex и Emma\n",
            "Arthur и Kate\n",
            "John и Kira\n",
            "Peter и Liza\n",
            "Richard и Trisha\n"
          ]
        }
      ],
      "source": [
        "boys = ['Peter', 'Alex', 'John', 'Arthur', 'Richard']\n",
        "girls = ['Kate', 'Liza', 'Kira', 'Emma', 'Trisha']\n",
        "\n",
        "boys = sorted(boys)\n",
        "girls = sorted(girls)\n",
        "\n",
        "if len(boys) == len(girls):\n",
        "    new = list(zip(boys, girls))\n",
        "    index = 0\n",
        "    print('Идеальные пары:')\n",
        "    while index < len(new):\n",
        "       print(new[index][0], 'и', new[index][1])\n",
        "       index += 1\n",
        "else:\n",
        "    print('Внимание, кто-то может остаться без пары!')\n"
      ]
    },
    {
      "source": [
        "#Задание 4\n",
        "У нас есть список, содержащий информацию о среднедневной температуре в Фаренгейтах за произвольный период по странам (структура данных в примере). Необходимо написать код, который рассчитает среднюю температуру за период в Цельсиях(!) для каждой страны.\n",
        "\n",
        "Пример работы программы:\n",
        "```\n",
        "countries_temperature = [\n",
        "[‘Thailand’, [75.2, 77, 78.8, 73.4, 68, 75.2, 77]],\n",
        "[‘Germany’, [57.2, 55.4, 59, 59, 53.6]],\n",
        "[‘Russia’, [35.6, 37.4, 39.2, 41, 42.8, 39.2, 35.6]],\n",
        "[‘Poland’, [50, 50, 53.6, 57.2, 55.4, 55.4]]\n",
        "]\n",
        "```\n",
        "Результат:\n",
        "```\n",
        "Средняя температура в странах:\n",
        "Thailand - 23.9 С\n",
        "Germany - 13.8 С\n",
        "Russia - 3.7 С\n",
        "Poland - 12.0 С\n",
        "```\n",
        "=====================================\n",
        "\n",
        "(Фаренгейт — 32) : 1,8 = Цельсий\n",
        "\n",
        "Цельсий х 1,8 + 32 = Фаренгейт"
      ],
      "cell_type": "markdown",
      "metadata": {
        "id": "K3ue4Meq1Rd6"
      }
    },
    {
      "cell_type": "code",
      "execution_count": null,
      "metadata": {
        "id": "qerEpLke1Rd6",
        "outputId": "9cb2d992-18f9-466f-8f83-97c02b24df6a",
        "colab": {
          "base_uri": "https://localhost:8080/"
        }
      },
      "outputs": [
        {
          "output_type": "stream",
          "name": "stdout",
          "text": [
            "Средняя температура в странах:\n",
            "Thailand - 23.9  C\n",
            "Germany - 13.8  C\n",
            "Russia - 3.7  C\n",
            "Poland - 12.0  C\n"
          ]
        }
      ],
      "source": [
        "countries_temperature = [\n",
        "    ['Thailand', [75.2, 77, 78.8, 73.4, 68, 75.2, 77]],\n",
        "    ['Germany', [57.2, 55.4, 59, 59, 53.6]],\n",
        "    ['Russia', [35.6, 37.4, 39.2, 41, 42.8, 39.2, 35.6]],\n",
        "    ['Poland', [50, 50, 53.6, 57.2, 55.4, 55.4]]\n",
        "]\n",
        "print('Средняя температура в странах:')\n",
        "for country in countries_temperature:\n",
        "    sum_t = 0\n",
        "    for convert in country[1]:\n",
        "        convert = (convert - 32) / 1.8\n",
        "        sum_t += convert\n",
        "    print(country[0], '-', round(sum_t/len(country[1]), 1), ' C')"
      ]
    },
    {
      "cell_type": "markdown",
      "source": [
        "*в 4 задаче можно было обойтись без вложенного цикла, если использовать sum и len для всех расчетов:*\n"
      ],
      "metadata": {
        "id": "-Tc0T0fAXGAD"
      }
    },
    {
      "cell_type": "code",
      "source": [
        "#best\n",
        "for element in countries_temperature:\n",
        "   avg_temp = sum(element[1]) / len(element[1])\n",
        "   print(f\"Средняя температура в {element[0]} - {round((avg_temp - 32)*5/9, 1)} C\")"
      ],
      "metadata": {
        "id": "4Qhq6oGjW6Hf"
      },
      "execution_count": null,
      "outputs": []
    },
    {
      "source": [
        "#Задание 5 (необязательное)\n",
        "Дан поток логов по количеству просмотренных страниц для каждого пользователя. Вам необходимо написать алгоритм, который считает среднее значение просмотров на пользователя. Т. е. надо посчитать отношение суммы всех просмотров к количеству уникальных пользователей.\n",
        "\n",
        "Примеры работы программы:\n",
        "```\n",
        "stream = [\n",
        "‘2018-01-01,user1,3’,\n",
        "‘2018-01-07,user1,4’,\n",
        "‘2018-03-29,user1,1’,\n",
        "‘2018-04-04,user1,13’,\n",
        "‘2018-01-05,user2,7’,\n",
        "‘2018-06-14,user3,4’,\n",
        "‘2018-07-02,user3,10’,\n",
        "‘2018-03-21,user4,19’,\n",
        "‘2018-03-22,user4,4’,\n",
        "‘2018-04-22,user4,8’,\n",
        "‘2018-05-03,user4,9’,\n",
        "‘2018-05-11,user4,11’,\n",
        "]\n",
        "```\n",
        "Результат:\n",
        "\n",
        "Среднее количество просмотров на уникального пользователя: 23.25\n",
        "```\n",
        "stream = [\n",
        "‘2018-01-01,user100,150’,\n",
        "‘2018-01-07,user99,205’,\n",
        "‘2018-03-29,user1001,81’\n",
        "]\n",
        "```\n",
        "Результат:\n",
        "Среднее количество просмотров на уникального пользователя: 145.33\n"
      ],
      "cell_type": "markdown",
      "metadata": {
        "id": "C_xpGdzZ1Rd7"
      }
    },
    {
      "cell_type": "code",
      "execution_count": null,
      "metadata": {
        "id": "CauHt7v71Rd8",
        "outputId": "401e9a88-0021-4df5-f3d5-fd5ff6a66645",
        "colab": {
          "base_uri": "https://localhost:8080/"
        }
      },
      "outputs": [
        {
          "output_type": "stream",
          "name": "stdout",
          "text": [
            "23.25\n"
          ]
        }
      ],
      "source": [
        "stream = [\n",
        "    '2018-01-01,user1,3',\n",
        "    '2018-01-07,user1,4',\n",
        "    '2018-03-29,user1,1',\n",
        "    '2018-04-04,user1,13',\n",
        "    '2018-01-05,user2,7',\n",
        "    '2018-06-14,user3,4',\n",
        "    '2018-07-02,user3,10',\n",
        "    '2018-03-21,user4,19',\n",
        "    '2018-03-22,user4,4',\n",
        "    '2018-04-22,user4,8',\n",
        "    '2018-05-03,user4,9',\n",
        "    '2018-05-11,user4,11',\n",
        "]\n",
        "\n",
        "sum_log = 0\n",
        "users = []\n",
        "\n",
        "for amount in stream:\n",
        "    log = amount.split(',')\n",
        "    sum_log += int(log[2])\n",
        "   \n",
        "    if log[1] not in users:\n",
        "        users.append(log[1])\n",
        "        \n",
        "print(sum_log/len(users))\n"
      ]
    },
    {
      "cell_type": "markdown",
      "source": [
        "*5 задачу можно оптимизировать вот так при помощи list comprehension (вы как раз в следующем теоретическом блоке с этим ознакомитесь):*\n"
      ],
      "metadata": {
        "id": "SKZg81pWXX2c"
      }
    },
    {
      "cell_type": "code",
      "source": [
        "#best\n",
        "\n",
        "total_views = sum([int(element.split(',')[2]) for element in stream])\n",
        "no_of_users = len(set([element.split(',')[1] for element in stream]))\n",
        "\n",
        "print(\"Среднее число просмотров на уникального пользователя:\", round(total_views / no_of_users, 2))"
      ],
      "metadata": {
        "id": "598q4EaZXQ19"
      },
      "execution_count": null,
      "outputs": []
    },
    {
      "source": [
        "#Задание 6\n",
        "Необходимо у пользователя запрашивать набор чисел разделенных пробелом. В результате в отсортированном порядке должны выводиться числа, которые повторяются в вводе более одного раза.\n",
        "\n",
        "Примеры работы программы:\n",
        "\n",
        "```\n",
        "Введите числа:\n",
        "4 8 0 3 4 2 0 3\n",
        "Результат:\n",
        "0 3 4\n",
        "```\n",
        "```\n",
        "Введите числа:\n",
        "1 1 2 2 3 3\n",
        "Результат:\n",
        "1 2 3\n",
        "```\n",
        "```\n",
        "Введите числа:\n",
        "10 15 15 103 200 200 200 1 1 1 1 1 2 2 2\n",
        "Результат:\n",
        "1 2 15 200\n",
        "```"
      ],
      "cell_type": "markdown",
      "metadata": {
        "id": "gn2anO661Rd9"
      }
    },
    {
      "cell_type": "code",
      "execution_count": null,
      "metadata": {
        "id": "umroCSq81Rd9",
        "outputId": "4bfe56a9-9ffb-4e7c-80c9-3bcb43e152bc",
        "colab": {
          "base_uri": "https://localhost:8080/"
        }
      },
      "outputs": [
        {
          "output_type": "stream",
          "name": "stdout",
          "text": [
            "Введите числа, разделенных пробелом:1 1 1 2 3 3 4 5\n",
            "['1', '3']\n"
          ]
        }
      ],
      "source": [
        "#не то)\n",
        "data = input('Введите числа, разделенных пробелом:')\n",
        "\n",
        "data = data.split(' ')\n",
        "spisok = []\n",
        "clear = []\n",
        "\n",
        "for number in data:\n",
        "    counter = data.count(number)\n",
        "    if counter > 1:\n",
        "        spisok.append(number)\n",
        "\n",
        "for item in spisok:\n",
        "    if item not in clear:\n",
        "        clear.append(item)\n",
        "print(sorted(clear, reverse=False))"
      ]
    },
    {
      "cell_type": "code",
      "source": [
        "data_1 = input('Введите числа, разделенных пробелом: ')\n",
        "\n",
        "data_1 = data_1.split(' ')\n",
        "spisok_1 = []\n",
        "clear_1 = []\n",
        "\n",
        "for number_1 in data_1:\n",
        "    counter = data_1.count(number_1)\n",
        "    if counter > 1:\n",
        "       number_1 = int(number_1)\n",
        "       spisok_1.append(number_1)\n",
        "\n",
        "           \n",
        "for item in spisok_1:\n",
        "    if item not in clear_1:\n",
        "       clear_1.append(item)\n",
        "print(sorted(clear_1, reverse=False))"
      ],
      "metadata": {
        "id": "BrAXgZuHio1_",
        "colab": {
          "base_uri": "https://localhost:8080/"
        },
        "outputId": "1cdc6484-47a5-47e4-b8e8-cd1f201b98e2"
      },
      "execution_count": 20,
      "outputs": [
        {
          "output_type": "stream",
          "name": "stdout",
          "text": [
            "Введите числа, разделенных пробелом: 1 2 2 2 3 3 4 4 5\n",
            "[2, 3, 4]\n"
          ]
        }
      ]
    },
    {
      "cell_type": "markdown",
      "source": [
        "Преобразование в число https://otus.ru/nest/post/993/"
      ],
      "metadata": {
        "id": "DaKGPzh2_QPo"
      }
    },
    {
      "cell_type": "markdown",
      "source": [
        "в 6 задаче реализуется лексикографический порядок сортировки. Для корректной реализации стоило преобразовать все числа в int. И можно было использовать join, чтобы все вывести не списком, а строкой, как в условии.\n"
      ],
      "metadata": {
        "id": "DcsbhO_FXhZ7"
      }
    },
    {
      "cell_type": "code",
      "source": [
        "data_2 = input('Введите числа, разделенных пробелом: ')\n",
        "\n",
        "data_2 = data_2.split(' ')\n",
        "spisok_2 = []\n",
        "clear_2 = []\n",
        "\n",
        "for number_2 in data_2:\n",
        "    counter = data_2.count(number_2)\n",
        "    if counter > 1:\n",
        "       number_2 = int(number_2)\n",
        "       spisok_2.append(number_2)\n",
        "\n",
        "           \n",
        "for item in spisok_2:\n",
        "    if item not in clear_2:\n",
        "       clear_2.append(item)\n",
        "print(sorted(clear_2, reverse=False))\n",
        "\n",
        "str_of_ints = \" \".join([str(int) for int in clear_2])\n",
        "\n",
        "print(str_of_ints)"
      ],
      "metadata": {
        "colab": {
          "base_uri": "https://localhost:8080/"
        },
        "id": "AByKoMJR_VoX",
        "outputId": "f39de8ac-192e-427c-d018-82f8aa9b9d85"
      },
      "execution_count": 21,
      "outputs": [
        {
          "output_type": "stream",
          "name": "stdout",
          "text": [
            "Введите числа, разделенных пробелом: 1 2 2 2 3 3 3 4 5 5 5\n",
            "[2, 3, 5]\n",
            "2 3 5\n"
          ]
        }
      ]
    }
  ]
}