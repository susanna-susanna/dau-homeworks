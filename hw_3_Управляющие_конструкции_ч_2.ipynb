{
  "nbformat": 4,
  "nbformat_minor": 0,
  "metadata": {
    "colab": {
      "provenance": [],
      "include_colab_link": true
    },
    "kernelspec": {
      "name": "python3",
      "display_name": "Python 3"
    },
    "language_info": {
      "name": "python"
    }
  },
  "cells": [
    {
      "cell_type": "markdown",
      "metadata": {
        "id": "view-in-github",
        "colab_type": "text"
      },
      "source": [
        "<a href=\"https://colab.research.google.com/github/susanna-susanna/dau-homeworks/blob/main/hw_3_%D0%A3%D0%BF%D1%80%D0%B0%D0%B2%D0%BB%D1%8F%D1%8E%D1%89%D0%B8%D0%B5_%D0%BA%D0%BE%D0%BD%D1%81%D1%82%D1%80%D1%83%D0%BA%D1%86%D0%B8%D0%B8_%D1%87_2.ipynb\" target=\"_parent\"><img src=\"https://colab.research.google.com/assets/colab-badge.svg\" alt=\"Open In Colab\"/></a>"
      ]
    },
    {
      "cell_type": "markdown",
      "source": [
        "ноутбуки с практического занятия:\n",
        "\n",
        "https://colab.research.google.com/drive/1xArrq7s-TBsXxNro2Y0vA9kxJD1KpjxQ#scrollTo=edQI-m-cCgpV\n",
        "\n",
        "https://colab.research.google.com/drive/1RSZyleNTcJwrrRmxXWMTPvVOpF2CIo65#scrollTo=1_o-2V22wPOT"
      ],
      "metadata": {
        "id": "bDQyErzrP55b"
      }
    },
    {
      "cell_type": "markdown",
      "source": [
        "#Задание 1\n",
        "Дана переменная, в которой хранится словарь, содержащий гео-метки для каждого пользователя (пример структуры данных приведен ниже). Вам необходимо написать программу, которая выведет на экран множество уникальных гео-меток всех пользователей.\n",
        "\n",
        "```\n",
        "Пример работы программы:\n",
        "\n",
        "ids = {‘user1’: [213, 213, 213, 15, 213],\n",
        "‘user2’: [54, 54, 119, 119, 119],\n",
        "‘user3’: [213, 98, 98, 35]}\n",
        "Результат: {98, 35, 15, 213, 54, 119}\n",
        "```"
      ],
      "metadata": {
        "id": "MOsx8MmBOzXT"
      }
    },
    {
      "cell_type": "code",
      "execution_count": 1,
      "metadata": {
        "id": "Jae6voGRD3mm"
      },
      "outputs": [],
      "source": [
        "ids = {'user1': [213, 213, 213, 15, 213], \n",
        "       'user2': [54, 54, 119, 119, 119], \n",
        "       'user3': [213, 98, 98, 35]}\n"
      ]
    },
    {
      "cell_type": "code",
      "source": [
        "ids_1 = []\n",
        "\n",
        "for item in ids.values():\n",
        "    for elem in item:\n",
        "      ids_1.append(elem)\n",
        "      \n",
        "set(ids_1)\n"
      ],
      "metadata": {
        "colab": {
          "base_uri": "https://localhost:8080/"
        },
        "id": "CjqfQY7kEFds",
        "outputId": "40daaefc-3463-4bf7-b220-d2f50984de13"
      },
      "execution_count": null,
      "outputs": [
        {
          "output_type": "execute_result",
          "data": {
            "text/plain": [
              "{15, 35, 54, 98, 119, 213}"
            ]
          },
          "metadata": {},
          "execution_count": 10
        }
      ]
    },
    {
      "cell_type": "markdown",
      "source": [
        "*в этой задаче можно было обойтись без вложенного цикла, если вспомнить, что и списки, и множества можно объединять не итерируясь по их элементам:*"
      ],
      "metadata": {
        "id": "n481CAGnJ8ck"
      }
    },
    {
      "cell_type": "code",
      "source": [
        "ids_set = set()\n",
        "for id_ in ids.values():\n",
        "    ids_set = ids_set.union(id_) \n",
        "\n",
        "ids_set"
      ],
      "metadata": {
        "colab": {
          "base_uri": "https://localhost:8080/"
        },
        "id": "prH7chzDW_fu",
        "outputId": "854f225f-b3e8-4727-f186-6e6649cf3824"
      },
      "execution_count": 3,
      "outputs": [
        {
          "output_type": "execute_result",
          "data": {
            "text/plain": [
              "{15, 35, 54, 98, 119, 213}"
            ]
          },
          "metadata": {},
          "execution_count": 3
        }
      ]
    },
    {
      "cell_type": "markdown",
      "source": [
        "#Задание 2\n",
        "Дана переменная, в которой хранится список поисковых запросов пользователя (пример структуры данных приведен ниже). Вам необходимо написать программу, которая выведет на экран распределение количества слов в запросах в требуемом виде.\n",
        "\n",
        "Пример работы программы:\n",
        "```\n",
        "queries = [\n",
        "‘смотреть сериалы онлайн’,\n",
        "‘новости спорта’,\n",
        "‘афиша кино’,\n",
        "‘курс доллара’,\n",
        "‘сериалы этим летом’,\n",
        "‘курс по питону’,\n",
        "‘сериалы про спорт’\n",
        "]\n",
        "```\n",
        "Результат:\n",
        "```\n",
        "Поисковых запросов, содержащих 2 слов(а): 42.86%\n",
        "Поисковых запросов, содержащих 3 слов(а): 57.14%\n",
        "```"
      ],
      "metadata": {
        "id": "zU0xPumIUwZi"
      }
    },
    {
      "cell_type": "code",
      "source": [
        "queries = [\n",
        "    'смотреть сериалы онлайн',\n",
        "    'новости спорта',\n",
        "    'афиша кино',\n",
        "    'курс доллара',\n",
        "    'сериалы этим летом',\n",
        "    'курс по питону',\n",
        "    'сериалы про спорт',\n",
        "    'сериалы про спорт курс по питону',\n",
        "    'курс доллара афиша кино',\n",
        "]"
      ],
      "metadata": {
        "id": "RHCpc3ESPF1p"
      },
      "execution_count": null,
      "outputs": []
    },
    {
      "cell_type": "markdown",
      "source": [
        "Моя задача -- написать универсальный алгоритм, который будет корректно работать на любых данных аналогичной структуры (Запросы могут состоять из любого количества слов от 1 до 1000. Не будем же вручную прописывать каждый случай)\n",
        "\n",
        "Буду использовать в качестве результирующей переменной словарь. Ключами в нем будут варианты количества слов в запросах, а значениями – количество таких запросов. \n",
        "Формировать его в цикле, проверять наличие текущей длины в ключах и наращивать бы значение на 1"
      ],
      "metadata": {
        "id": "hT6UzoObKGo1"
      }
    },
    {
      "cell_type": "code",
      "source": [
        "# проверка\n",
        "len(queries[0].split(' '))"
      ],
      "metadata": {
        "colab": {
          "base_uri": "https://localhost:8080/"
        },
        "id": "QdSLtCcyMrXE",
        "outputId": "ab1485b6-7b8a-464c-bca8-aa409e965d71"
      },
      "execution_count": null,
      "outputs": [
        {
          "output_type": "execute_result",
          "data": {
            "text/plain": [
              "3"
            ]
          },
          "metadata": {},
          "execution_count": 23
        }
      ]
    },
    {
      "cell_type": "code",
      "source": [
        "res = {}\n",
        "\n",
        "for size, item in enumerate(queries):\n",
        "  size = int(len(item.split(' ')))\n",
        "  if size not in res:\n",
        "    res[size] = 1\n",
        "  else :\n",
        "    res[size] += 1\n",
        "\n",
        "print(res)\n",
        "\n",
        "for key, count in res.items():\n",
        "  print(f\"Поисковых запросов, содержащих {key} слов(а): {round((count/len(queries)*100), 2)} %\")\n"
      ],
      "metadata": {
        "colab": {
          "base_uri": "https://localhost:8080/"
        },
        "id": "Khv8BjOdNNQg",
        "outputId": "67918494-5851-4987-fbdc-f7c5b466334d"
      },
      "execution_count": null,
      "outputs": [
        {
          "output_type": "stream",
          "name": "stdout",
          "text": [
            "{3: 4, 2: 3, 6: 1, 4: 1}\n",
            "Поисковых запросов, содержащих 3 слов(а): 44.44 %\n",
            "Поисковых запросов, содержащих 2 слов(а): 33.33 %\n",
            "Поисковых запросов, содержащих 6 слов(а): 11.11 %\n",
            "Поисковых запросов, содержащих 4 слов(а): 11.11 %\n"
          ]
        }
      ]
    },
    {
      "cell_type": "markdown",
      "source": [
        "f-строка работает так:\n",
        "'Некая строка'\n",
        "Её надо принтануть:\n",
        "print('Некая строка')\n",
        "В неё нужно добавить переменную и принтануть:\n",
        "a = 5\n",
        "`print(f'Некая строка из {а} слов')`\n",
        "\n",
        "В Вашем случае:\n",
        "`print(f\"Поисковых запросов, содержащих {key} слов(а): {round((count/len(queries)*100), 2)} %\")`\n",
        "\n",
        "Вообще всё, что не должно интерпретироваться как строка (переменные, вычисления), идёт в {}"
      ],
      "metadata": {
        "id": "uBfjVztnD1iL"
      }
    },
    {
      "cell_type": "markdown",
      "source": [
        "#Задание 3\n",
        "Дана переменная, в которой хранится информация о затратах и доходе рекламных кампаний по различным источникам. Необходимо дополнить исходную структуру показателем ROI, который рассчитаем по формуле: (revenue / cost - 1) * 100\n",
        "\n",
        "Пример работы программы:\n",
        "\n",
        "```\n",
        "results = {\n",
        "    'vk': {'revenue': 103, 'cost': 98},\n",
        "    'yandex': {'revenue': 179, 'cost': 153},\n",
        "    'facebook': {'revenue': 103, 'cost': 110},\n",
        "    'adwords': {'revenue': 35, 'cost': 34},\n",
        "    'twitter': {'revenue': 11, 'cost': 24},\n",
        "}\n",
        "```\n",
        "Результат:\n",
        "```\n",
        "{'adwords': {'revenue': 35, 'cost': 34, 'ROI': 2.94},\n",
        " 'facebook': {'revenue': 103, 'cost': 110, 'ROI': -6.36},\n",
        " 'twitter': {'revenue': 11, 'cost': 24, 'ROI': -54.17},\n",
        " 'vk': {'revenue': 103, 'cost': 98, 'ROI': 5.1},\n",
        " 'yandex': {'revenue': 179, 'cost': 153, 'ROI': 16.99}}\n",
        "```"
      ],
      "metadata": {
        "id": "szZmcnYnaEhv"
      }
    },
    {
      "cell_type": "code",
      "source": [
        "results = {\n",
        "    'vk': {'revenue': 103, 'cost': 98},\n",
        "    'yandex': {'revenue': 179, 'cost': 153},\n",
        "    'facebook': {'revenue': 103, 'cost': 110},\n",
        "    'adwords': {'revenue': 35, 'cost': 34},\n",
        "    'twitter': {'revenue': 11, 'cost': 24},\n",
        "}\n",
        "\n",
        "#(очень пригодиться в циклах)\n",
        "print(results.keys())\n",
        "# print(results.values())\n",
        "# print(results.items())"
      ],
      "metadata": {
        "id": "IPiKNKLNaNxp",
        "colab": {
          "base_uri": "https://localhost:8080/"
        },
        "outputId": "af1defe8-4fd7-4b14-9033-c4938e041f1f"
      },
      "execution_count": null,
      "outputs": [
        {
          "output_type": "stream",
          "name": "stdout",
          "text": [
            "dict_keys(['vk', 'yandex', 'facebook', 'adwords', 'twitter'])\n"
          ]
        }
      ]
    },
    {
      "cell_type": "code",
      "source": [
        "for resours, infor  in results.items():\n",
        "    infor['ROI'] = round(((infor['revenue'] / infor['cost'] - 1) *100), 2)\n",
        "    print(infor)\n",
        "\n",
        "print(' ')\n",
        "results \n",
        "    "
      ],
      "metadata": {
        "colab": {
          "base_uri": "https://localhost:8080/"
        },
        "id": "_H72sBKq3FDa",
        "outputId": "6fcd8fe3-b050-4b6e-b08f-6fc3e03718dd"
      },
      "execution_count": null,
      "outputs": [
        {
          "output_type": "stream",
          "name": "stdout",
          "text": [
            "{'revenue': 103, 'cost': 98, 'ROI': 5.1}\n",
            "{'revenue': 179, 'cost': 153, 'ROI': 16.99}\n",
            "{'revenue': 103, 'cost': 110, 'ROI': -6.36}\n",
            "{'revenue': 35, 'cost': 34, 'ROI': 2.94}\n",
            "{'revenue': 11, 'cost': 24, 'ROI': -54.17}\n",
            " \n"
          ]
        },
        {
          "output_type": "execute_result",
          "data": {
            "text/plain": [
              "{'adwords': {'ROI': 2.94, 'cost': 34, 'revenue': 35},\n",
              " 'facebook': {'ROI': -6.36, 'cost': 110, 'revenue': 103},\n",
              " 'twitter': {'ROI': -54.17, 'cost': 24, 'revenue': 11},\n",
              " 'vk': {'ROI': 5.1, 'cost': 98, 'revenue': 103},\n",
              " 'yandex': {'ROI': 16.99, 'cost': 153, 'revenue': 179}}"
            ]
          },
          "metadata": {},
          "execution_count": 47
        }
      ]
    },
    {
      "cell_type": "markdown",
      "source": [
        "#Задание 4\n",
        "Дана переменная, в которой хранится статистика рекламных каналов по объемам продаж (пример структуры данных приведен ниже). Напишите программу, которая возвращает название канала с максимальным объемом продаж.\n",
        "\n",
        "Пример работы программы:\n",
        "```\n",
        "stats = {'facebook': 55, 'yandex': 115, 'vk': 120, 'google': 99, 'email': 42, 'ok': 98}\n",
        "```\n",
        "Результат: ```Максимальный объем продаж на рекламном канале: vk```\n",
        "\n"
      ],
      "metadata": {
        "id": "wafeJ1uhahRL"
      }
    },
    {
      "cell_type": "code",
      "source": [
        "stats = {'facebook': 55, 'yandex': 115, 'vk': 120, 'google': 99, 'email': 42, 'ok': 98}"
      ],
      "metadata": {
        "id": "-grClrGRasqO"
      },
      "execution_count": null,
      "outputs": []
    },
    {
      "cell_type": "markdown",
      "source": [
        "функцию MAX https://pythobyte.com/how-to-get-the-key-with-the-maximum-value-in-a-dictionary-b87b0654/"
      ],
      "metadata": {
        "id": "qahzNXwryDoO"
      }
    },
    {
      "cell_type": "code",
      "source": [
        "print('Максимальный объем продаж на рекламном канале: ', max(stats, key=stats.get))"
      ],
      "metadata": {
        "colab": {
          "base_uri": "https://localhost:8080/"
        },
        "id": "f94Jqqk7yPoA",
        "outputId": "53922f4a-fc0f-4acd-a764-a2add77d75be"
      },
      "execution_count": null,
      "outputs": [
        {
          "output_type": "stream",
          "name": "stdout",
          "text": [
            "Максимальный объем продаж на рекламном канале:  vk\n"
          ]
        }
      ]
    },
    {
      "cell_type": "markdown",
      "source": [
        "#Задание 5 (необязательно)\n",
        "Дан список произвольной длины. Необходимо написать код, который на основе исходного списка составит словарь такого уровня вложенности, какова длина исхондого списка.\n",
        "\n",
        "Примеры работы программы:\n",
        "\n",
        "```my_list = ['2018-01-01', 'yandex', 'cpc', 100]```\n",
        "\n",
        "Результат: ```{'2018-01-01': {'yandex': {'cpc': 100}}}```\n",
        "\n",
        "```my_list = ['a', 'b', 'c', 'd', 'e', 'f']```\n",
        "\n",
        "Результат: ```{'a': {'b': {'c': {'d': {'e': 'f'}}}}}```\n",
        "\n"
      ],
      "metadata": {
        "id": "FMeBYAAKa1D8"
      }
    },
    {
      "cell_type": "markdown",
      "source": [
        "Вложенные словари https://stepik.org/lesson/446698/step/1"
      ],
      "metadata": {
        "id": "vIOrMy2Q3Ojx"
      }
    },
    {
      "cell_type": "code",
      "source": [
        "my_list = ['2018-01-01', 'yandex', 'cpc', 100]\n",
        "#Результат: {'2018-01-01': {'yandex': {'cpc': 100}}}"
      ],
      "metadata": {
        "id": "E6wmt_nm6lRw"
      },
      "execution_count": null,
      "outputs": []
    },
    {
      "cell_type": "code",
      "source": [
        "new_elem = my_list[-1]\n",
        "n = -1\n",
        "\n",
        "for item in my_list[:n]:\n",
        "  print(my_list[n])\n",
        "  new_elem = {item: new_elem}\n",
        "  n -=1\n",
        "print(new_elem)"
      ],
      "metadata": {
        "colab": {
          "base_uri": "https://localhost:8080/"
        },
        "id": "sOmDMOBZxMEh",
        "outputId": "177bd0c3-7f78-4a45-86da-c2f24f95c6b4"
      },
      "execution_count": null,
      "outputs": [
        {
          "output_type": "stream",
          "name": "stdout",
          "text": [
            "100\n",
            "cpc\n",
            "yandex\n",
            "{'cpc': {'yandex': {'2018-01-01': 100}}}\n"
          ]
        }
      ]
    },
    {
      "cell_type": "markdown",
      "source": [
        "###Синтаксис описания срезов\n",
        " https://ru.hexlet.io/courses/python-lists/lessons/slices/theory_unit\n",
        "\n",
        " https://foxford.ru/wiki/informatika/srezy-spiskov-v-python\n",
        "\n",
        " https://foxford.ru/wiki/informatika/srezy-strok-v-python"
      ],
      "metadata": {
        "id": "a4cVIHXqrdy2"
      }
    },
    {
      "cell_type": "code",
      "source": [
        "ml = my_list[::-1]\n",
        "ml"
      ],
      "metadata": {
        "colab": {
          "base_uri": "https://localhost:8080/"
        },
        "id": "047OKZ4uEek2",
        "outputId": "fe69298d-caed-4ab7-9d53-89f698600d85"
      },
      "execution_count": null,
      "outputs": [
        {
          "output_type": "execute_result",
          "data": {
            "text/plain": [
              "[100, 'cpc', 'yandex', '2018-01-01']"
            ]
          },
          "metadata": {},
          "execution_count": 9
        }
      ]
    },
    {
      "cell_type": "code",
      "source": [
        "new = ml[0]\n",
        "\n",
        "for item in ml[1:]:\n",
        "  new = {item: new}\n",
        "  \n",
        "print(new)"
      ],
      "metadata": {
        "colab": {
          "base_uri": "https://localhost:8080/"
        },
        "id": "4-sr-zQtEwxo",
        "outputId": "a84d137e-1c3e-4b42-9b77-a60b959aec6d"
      },
      "execution_count": null,
      "outputs": [
        {
          "output_type": "stream",
          "name": "stdout",
          "text": [
            "{'2018-01-01': {'yandex': {'cpc': 100}}}\n"
          ]
        }
      ]
    },
    {
      "cell_type": "markdown",
      "source": [
        "#Задание 6 (необязательно)\n",
        "Дана книга рецептов с информацией о том, сколько ингредиентов нужно для приготовления блюда в расчете на одну порцию (пример данных представлен ниже).\n",
        "Напишите программу, которая будет запрашивать у пользователя количество порций для приготовления этих блюд и отображать информацию о суммарном количестве требуемых ингредиентов в указанном виде.\n",
        "\n",
        "**Внимание! Одинаковые ингридиенты с разными размерностями нужно считать раздельно!**\n",
        "\n",
        "Пример работы программы:\n",
        "\n",
        "```\n",
        "cook_book = {\n",
        "‘салат’: [\n",
        "{‘ingridient_name’: ‘сыр’, ‘quantity’: 50, ‘measure’: ‘гр’},\n",
        "{‘ingridient_name’: ‘томаты’, ‘quantity’: 2, ‘measure’: ‘шт’},\n",
        "{‘ingridient_name’: ‘огурцы’, ‘quantity’: 20, ‘measure’: ‘гр’},\n",
        "{‘ingridient_name’: ‘маслины’, ‘quantity’: 10, ‘measure’: ‘гр’},\n",
        "{‘ingridient_name’: ‘оливковое масло’, ‘quantity’: 20, ‘measure’: ‘мл’},\n",
        "{‘ingridient_name’: ‘салат’, ‘quantity’: 10, ‘measure’: ‘гр’},\n",
        "{‘ingridient_name’: ‘перец’, ‘quantity’: 20, ‘measure’: ‘гр’}\n",
        "],\n",
        "‘пицца’: [\n",
        "{‘ingridient_name’: ‘сыр’, ‘quantity’: 20, ‘measure’: ‘гр’},\n",
        "{‘ingridient_name’: ‘колбаса’, ‘quantity’: 30, ‘measure’: ‘гр’},\n",
        "{‘ingridient_name’: ‘бекон’, ‘quantity’: 30, ‘measure’: ‘гр’},\n",
        "{‘ingridient_name’: ‘оливки’, ‘quantity’: 10, ‘measure’: ‘гр’},\n",
        "{‘ingridient_name’: ‘томаты’, ‘quantity’: 20, ‘measure’: ‘гр’},\n",
        "{‘ingridient_name’: ‘тесто’, ‘quantity’: 100, ‘measure’: ‘гр’},\n",
        "],\n",
        "‘лимонад’: [\n",
        "{‘ingridient_name’: ‘лимон’, ‘quantity’: 1, ‘measure’: ‘шт’},\n",
        "{‘ingridient_name’: ‘вода’, ‘quantity’: 200, ‘measure’: ‘мл’},\n",
        "{‘ingridient_name’: ‘сахар’, ‘quantity’: 10, ‘measure’: ‘гр’},\n",
        "{‘ingridient_name’: ‘лайм’, ‘quantity’: 20, ‘measure’: ‘гр’},\n",
        "]\n",
        "}\n",
        "```\n",
        "\n",
        "```\n",
        "Введите количество порций:\n",
        "3\n",
        "Результат:\n",
        "```\n",
        "\n",
        "```\n",
        "Сыр: 210 гр\n",
        "Томаты: 6 шт.\n",
        "Огурцы: 60 гр\n",
        "Маслины: 30 гр\n",
        "Оливковое масло: 60 мл\n",
        "Салат: 30 гр\n",
        "Перец: 60 гр\n",
        "Колбаса: 90 гр\n",
        "Бекон: 90 гр\n",
        "Оливки: 30 гр\n",
        "Томаты: 60 гр\n",
        "Тесто: 300 гр\n",
        "Лимон: 3 шт.\n",
        "Вода: 600 мл\n",
        "Сахар: 30 гр\n",
        "Лайм: 60 гр\n",
        "```"
      ],
      "metadata": {
        "id": "yPx5AiYtbK_p"
      }
    },
    {
      "cell_type": "code",
      "source": [
        "cook_book = {\n",
        "  'салат': [\n",
        "     {'ingridient_name': 'сыр', 'quantity': 50, 'measure': 'гр'},\n",
        "     {'ingridient_name': 'томаты', 'quantity': 2, 'measure': 'шт'},\n",
        "     {'ingridient_name': 'огурцы', 'quantity': 20, 'measure': 'гр'},\n",
        "     {'ingridient_name': 'маслины', 'quantity': 10, 'measure': 'гр'},\n",
        "     {'ingridient_name': 'оливковое масло', 'quantity': 20, 'measure': 'мл'},\n",
        "     {'ingridient_name': 'салат', 'quantity': 10, 'measure': 'гр'},\n",
        "     {'ingridient_name': 'перец', 'quantity': 20, 'measure': 'гр'}\n",
        "    ],\n",
        "  'пицца': [\n",
        "     {'ingridient_name': 'сыр', 'quantity': 20, 'measure': 'гр'},\n",
        "     {'ingridient_name': 'колбаса', 'quantity': 30, 'measure': 'гр'},\n",
        "     {'ingridient_name': 'бекон', 'quantity': 30, 'measure': 'гр'},\n",
        "     {'ingridient_name': 'оливки', 'quantity': 10, 'measure': 'гр'},\n",
        "     {'ingridient_name': 'томаты', 'quantity': 20, 'measure': 'гр'},\n",
        "     {'ingridient_name': 'тесто', 'quantity': 100, 'measure': 'гр'},   \n",
        "    ],\n",
        "  'лимонад': [\n",
        "     {'ingridient_name': 'лимон', 'quantity': 1, 'measure': 'шт'},\n",
        "     {'ingridient_name': 'вода', 'quantity': 200, 'measure': 'мл'},\n",
        "     {'ingridient_name': 'сахар', 'quantity': 10, 'measure': 'гр'},\n",
        "     {'ingridient_name': 'лайм', 'quantity': 20, 'measure': 'гр'},    \n",
        "    ]\n",
        "}"
      ],
      "metadata": {
        "id": "5_q2HF8Kbepn"
      },
      "execution_count": 4,
      "outputs": []
    },
    {
      "cell_type": "markdown",
      "source": [
        "для 6 задачи рекомендовали рассмотреть алгоритм решения, при котором мы формируем словарь, ключами в котором будут кортежи из названия ингредиента и его размерности, а значениями — количество ингредиента."
      ],
      "metadata": {
        "id": "d8P_c5TlKMoF"
      }
    },
    {
      "cell_type": "code",
      "source": [
        "for dish in cook_book:\n",
        "  print(dish)"
      ],
      "metadata": {
        "colab": {
          "base_uri": "https://localhost:8080/"
        },
        "id": "cvLHt_Mc1gAf",
        "outputId": "c9dc038e-2b16-42c5-fe68-de65278c130a"
      },
      "execution_count": null,
      "outputs": [
        {
          "output_type": "stream",
          "name": "stdout",
          "text": [
            "салат\n",
            "пицца\n",
            "лимонад\n"
          ]
        }
      ]
    },
    {
      "cell_type": "code",
      "source": [
        "person = 5\n",
        "shop_dict = {}\n",
        "\n",
        "for dish in cook_book.values():\n",
        "  for ingr in dish:\n",
        "    key = (ingr['ingridient_name'], ingr['measure'])\n",
        "    if key not in shop_dict:\n",
        "        shop_dict[key] = ingr['quantity'] * person\n",
        "    else:\n",
        "        shop_dict[key] += ingr['quantity'] * person\n",
        "\n",
        "for name, q in shop_dict.items():\n",
        "    print(f'{name[0]}: {q} {name[1]}')"
      ],
      "metadata": {
        "colab": {
          "base_uri": "https://localhost:8080/"
        },
        "id": "-V401A9Bb4jB",
        "outputId": "be53ba23-8b36-48a1-9490-f9fb26a888be"
      },
      "execution_count": 7,
      "outputs": [
        {
          "output_type": "stream",
          "name": "stdout",
          "text": [
            "сыр: 350 гр\n",
            "томаты: 10 шт\n",
            "огурцы: 100 гр\n",
            "маслины: 50 гр\n",
            "оливковое масло: 100 мл\n",
            "салат: 50 гр\n",
            "перец: 100 гр\n",
            "колбаса: 150 гр\n",
            "бекон: 150 гр\n",
            "оливки: 50 гр\n",
            "томаты: 100 гр\n",
            "тесто: 500 гр\n",
            "лимон: 5 шт\n",
            "вода: 1000 мл\n",
            "сахар: 50 гр\n",
            "лайм: 100 гр\n"
          ]
        }
      ]
    }
  ]
}