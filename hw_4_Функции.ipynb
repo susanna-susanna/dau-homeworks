{
  "cells": [
    {
      "cell_type": "markdown",
      "metadata": {
        "id": "view-in-github",
        "colab_type": "text"
      },
      "source": [
        "<a href=\"https://colab.research.google.com/github/susanna-susanna/dau-homeworks/blob/main/hw_4_%D0%A4%D1%83%D0%BD%D0%BA%D1%86%D0%B8%D0%B8.ipynb\" target=\"_parent\"><img src=\"https://colab.research.google.com/assets/colab-badge.svg\" alt=\"Open In Colab\"/></a>"
      ]
    },
    {
      "cell_type": "markdown",
      "source": [
        "Ноутбуки с практичесого занятия\n",
        "\n",
        "https://colab.research.google.com/drive/1ENMWFqzrtrB_-XO9BuPRFIHQ6B1S5LIG#scrollTo=edQI-m-cCgpV\n",
        "\n",
        "https://colab.research.google.com/drive/1cvfCZLJMjb6P1vt6KCZqOvuUtafu_Zl-#scrollTo=az5OKd1i56O9"
      ],
      "metadata": {
        "id": "-M9-lIy0SxK8"
      }
    },
    {
      "cell_type": "markdown",
      "source": [
        "##Домашнее задание к лекции \"Функции\"\n",
        "https://github.com/obulygin/pyda_homeworks/blob/master/functions/functions.ipynb\n",
        "\n",
        "Вам нужно помочь секретарю автоматизировать работу. Для этого нужно написать программу, которая будет на основе хранимых данных исполнять пользовательские команды.\n",
        "\n",
        "Исходные данные имеют следующую структуру:\n",
        "\n",
        "перечень всех документов\n",
        "```\n",
        "documents = [\n",
        " {'type': 'passport', 'number': '2207 876234', 'name': 'Василий Гупкин'},\n",
        " {'type': 'invoice', 'number': '11-2', 'name': 'Геннадий Покемонов'},\n",
        " {'type': 'insurance', 'number': '10006', 'name': 'Аристарх Павлов'}\n",
        "]\n",
        "```\n",
        "перечень полок, на которых хранятся документы (если документ есть в documents, то он обязательно должен быть и в directories)\n",
        "```\n",
        "directories = {\n",
        " '1': ['2207 876234', '11-2'],\n",
        " '2': ['10006'],\n",
        " '3': []\n",
        "}\n",
        "```\n",
        "\n",
        "Общие требования к программе:\n",
        "\n",
        "* код должен быть грамотно декомпозирован (каждая функция отвечает за свою конкретную задачу, дублирующийся функционал переиспользуется, а его код не повторяется);\n",
        "* в коде отсутствуют глобальные переменные (за исключением **documents** и **directories**);\n",
        "* пользовательский ввод обрабатывается в цикле **while** до тех пор, пока пользователь явно не завершит программу (вводом команды \"**q**\").\n"
      ],
      "metadata": {
        "id": "ljygPXlMXKwr"
      }
    },
    {
      "cell_type": "code",
      "source": [
        "documents = [\n",
        " {'type': 'passport', 'number': '2207 876234', 'name': 'Василий Гупкин'},\n",
        " {'type': 'invoice', 'number': '11-2', 'name': 'Геннадий Покемонов'},\n",
        " {'type': 'insurance', 'number': '10006', 'name': 'Аристарх Павлов'}\n",
        "]"
      ],
      "metadata": {
        "id": "JHBvecoyXcsC"
      },
      "execution_count": null,
      "outputs": []
    },
    {
      "cell_type": "code",
      "source": [
        "directories = {\n",
        " '1': ['2207 876234', '11-2'],\n",
        " '2': ['10006'],\n",
        " '3': []\n",
        "}"
      ],
      "metadata": {
        "id": "nrW91wtFXggP"
      },
      "execution_count": null,
      "outputs": []
    },
    {
      "cell_type": "markdown",
      "source": [
        "###Пункт 1. \n",
        "Пользователь по команде \"p\" может узнать владельца документа по его номеру\n",
        "Примеры работы:\n",
        "```\n",
        "1.\n",
        "\n",
        "Введите команду:\n",
        "p\n",
        "\n",
        "Введите номер документа:\n",
        "10006\n",
        "Результат:\n",
        "Владелец документа: Аристарх Павлов\n",
        "\n",
        "2.\n",
        "\n",
        "Введите команду:\n",
        "p\n",
        "\n",
        "Введите номер документа:\n",
        "12345\n",
        "Результат:\n",
        "Документ не найден в базе\n",
        "```\n"
      ],
      "metadata": {
        "id": "XlI_ddo9WpEf"
      }
    },
    {
      "cell_type": "code",
      "source": [
        "def find_doc():\n",
        "  comand = input('Введите номер документа ')\n",
        "  doc_list = []\n",
        "  for document in documents:\n",
        "    doc_list.append(document['number'])\n",
        "    if document['number'] == comand:\n",
        "      print(f\"Владелец документа: {document['name']}\")\n",
        "    \n",
        "  if comand not in doc_list:\n",
        "    print(\"Документ не найден в базе\")\n",
        "      \n",
        "\n",
        "find_doc()\n"
      ],
      "metadata": {
        "colab": {
          "base_uri": "https://localhost:8080/"
        },
        "id": "9hWGdfGXLYjC",
        "outputId": "963bda5d-cb0c-450b-b1eb-37438b5692b7"
      },
      "execution_count": null,
      "outputs": [
        {
          "output_type": "stream",
          "name": "stdout",
          "text": [
            "Введите номер документа 11-2\n",
            "Владелец документа: Геннадий Покемонов\n"
          ]
        }
      ]
    },
    {
      "cell_type": "markdown",
      "source": [
        "###Пункт 2. \n",
        "Пользователь по команде \"s\" может по номеру документа узнать на какой полке он хранится\n",
        "Примеры работы:\n",
        "```\n",
        "1.\n",
        "\n",
        "Введите команду:\n",
        "s\n",
        "\n",
        "Введите номер документа:\n",
        "10006\n",
        "Результат:\n",
        "Документ хранится на полке: 2\n",
        "\n",
        "2.\n",
        "\n",
        "Введите команду:\n",
        "s\n",
        "\n",
        "Введите номер документа:\n",
        "12345\n",
        "Результат:\n",
        "Документ не найден в базе\n",
        "```\n"
      ],
      "metadata": {
        "id": "LtP6DKd6WV70"
      }
    },
    {
      "cell_type": "code",
      "execution_count": null,
      "metadata": {
        "id": "lyO6owxMLSdl"
      },
      "outputs": [],
      "source": [
        "directories = {\n",
        " '1': ['2207 876234', '11-2', '22-22'],\n",
        " '2': ['10006'],\n",
        " '3': [],\n",
        " '4': ['900', '909']\n",
        "}"
      ]
    },
    {
      "cell_type": "code",
      "source": [
        "def find_shell():\n",
        "  command = input('Введите номер документа ')\n",
        "  \n",
        "  if_find = []\n",
        "  for key, value in directories.items():\n",
        "    for elem in value:\n",
        "      if command == elem:\n",
        "        if_find.append(key)\n",
        "        break\n",
        "      \n",
        "\n",
        "  if len(if_find) > 0:\n",
        "    print(f'На полке: {if_find[0]}')\n",
        "  else:\n",
        "    print('Документ не найден в базе')\n",
        "\n",
        "    \n",
        "find_shell()"
      ],
      "metadata": {
        "colab": {
          "base_uri": "https://localhost:8080/"
        },
        "id": "flp1Q_g2gAfg",
        "outputId": "1317b368-791b-486d-d7c5-2fd0ca514053"
      },
      "execution_count": null,
      "outputs": [
        {
          "output_type": "stream",
          "name": "stdout",
          "text": [
            "Input your number 10006\n",
            "On the shell 2\n"
          ]
        }
      ]
    },
    {
      "cell_type": "markdown",
      "source": [
        "вот вариант получше, без вложенных циклов\n",
        "\n",
        "т.к. проверку наличия документа на полке можно сделать при помощи оператора проверки вхождения in. Принцип может быть такой:"
      ],
      "metadata": {
        "id": "F_1lA8cGmFaU"
      }
    },
    {
      "cell_type": "code",
      "source": [
        "def get_shelf(number):\n",
        "    for key, value in directories.items():\n",
        "        if number in value:\n",
        "            print(key)\n",
        "            return \n",
        "    print('На полках документ не найден')\n"
      ],
      "metadata": {
        "id": "_EzhRCsAyS5X"
      },
      "execution_count": null,
      "outputs": []
    },
    {
      "cell_type": "markdown",
      "source": [
        "###Пункт 3. \n",
        "Пользователь по команде \"l\" может увидеть полную информацию по всем документам\n",
        "Пример работы:\n",
        "```\n",
        "Введите команду:\n",
        "l\n",
        "\n",
        "Результат:\n",
        "\n",
        "№: 2207 876234, тип: passport, владелец: Василий Гупкин, полка хранения: 1\n",
        "№: 11-2, тип: invoice, владелец: Геннадий Покемонов, полка хранения: 1\n",
        "№: 10006, тип: insurance, владелец: Аристарх Павлов, полка хранения: 2\n",
        "```"
      ],
      "metadata": {
        "id": "bTtjUFHHnaCI"
      }
    },
    {
      "cell_type": "code",
      "source": [
        "documents = [\n",
        " {'type': 'passport', 'number': '2207 876234', 'name': 'Василий Гупкин'},\n",
        " {'type': 'invoice', 'number': '11-2', 'name': 'Геннадий Покемонов'},\n",
        " {'type': 'insurance', 'number': '10006', 'name': 'Аристарх Павлов'}\n",
        "]"
      ],
      "metadata": {
        "id": "A7creUDInolo"
      },
      "execution_count": null,
      "outputs": []
    },
    {
      "cell_type": "code",
      "source": [
        "my_var = find_shell()"
      ],
      "metadata": {
        "colab": {
          "base_uri": "https://localhost:8080/"
        },
        "id": "n4hl9iAUoXfj",
        "outputId": "b5740cfd-f7f9-45c3-82e3-dc24895ce9d9"
      },
      "execution_count": null,
      "outputs": [
        {
          "output_type": "stream",
          "name": "stdout",
          "text": [
            "Input your number 11-2\n",
            "On the shell 1\n"
          ]
        }
      ]
    },
    {
      "cell_type": "code",
      "source": [
        "def all_info_about_docs():\n",
        "    for item in documents:\n",
        "        if_find = []\n",
        "        def find_shell_2(item):\n",
        "            for key, value in directories.items():\n",
        "                for elem in value:\n",
        "                    if item['number'] == elem:\n",
        "                        if_find.append(key)\n",
        "                        break\n",
        "            \n",
        "        find_shell_2(item)\n",
        "        print(f\"№: {item['number']}, тип: {item['type']}, владелец: {item['name']}, полка хранения:  {if_find[0]}\")\n",
        "\n",
        "all_info_about_docs()"
      ],
      "metadata": {
        "colab": {
          "base_uri": "https://localhost:8080/"
        },
        "id": "EqiRwMZ9kYpw",
        "outputId": "6459ae4b-f1c1-46e6-897c-151fc979e05c"
      },
      "execution_count": null,
      "outputs": [
        {
          "output_type": "stream",
          "name": "stdout",
          "text": [
            "№: 2207 876234, тип: passport, владелец: Василий Гупкин, полка хранения:  1\n",
            "№: 11-2, тип: invoice, владелец: Геннадий Покемонов, полка хранения:  1\n",
            "№: 10006, тип: insurance, владелец: Аристарх Павлов, полка хранения:  2\n"
          ]
        }
      ]
    },
    {
      "cell_type": "code",
      "source": [
        "# вот вариант поучше и попроще\n",
        "def info():\n",
        "    for shelf, content in directories.items():\n",
        "        for doc in documents:\n",
        "            if doc['number'] in content :\n",
        "                print(f\"№: {doc['number']}, тип: {doc['type']}, владелец: {doc['name']}, полка хранения: {shelf}\")\n"
      ],
      "metadata": {
        "id": "1bbtKu9Ayikg"
      },
      "execution_count": null,
      "outputs": []
    },
    {
      "cell_type": "markdown",
      "source": [
        "###Пункт 4. \n",
        "Пользователь по команде \"ads\" может добавить новую полку\n",
        "Примеры работы:\n",
        "```\n",
        "1.\n",
        "\n",
        "Введите команду:\n",
        "ads\n",
        "\n",
        "Введите номер полки:\n",
        "10\n",
        "Результат:\n",
        "Полка добавлена. Текущий перечень полок: 1, 2, 3, 10.\n",
        "\n",
        "2.\n",
        "\n",
        "Введите команду:\n",
        "ads\n",
        "\n",
        "Введите номер полки:\n",
        "1\n",
        "Результат:\n",
        "Такая полка уже существует. Текущий перечень полок: 1, 2, 3.\n",
        "```\n",
        "```\n",
        "directories = {\n",
        " '1': ['2207 876234', '11-2', '22-22'],\n",
        " '2': ['10006'],\n",
        " '3': [],\n",
        " '4': ['900', '909']\n",
        "}\n",
        "```\n"
      ],
      "metadata": {
        "id": "mNT4OAhDvo1Q"
      }
    },
    {
      "cell_type": "code",
      "source": [
        "directories "
      ],
      "metadata": {
        "colab": {
          "base_uri": "https://localhost:8080/"
        },
        "id": "tyPteSqSaqjX",
        "outputId": "6bd894a2-f2c3-42fb-c77d-93b60b3c9954"
      },
      "execution_count": null,
      "outputs": [
        {
          "output_type": "execute_result",
          "data": {
            "text/plain": [
              "{'1': ['2207 876234', '11-2', '22-22'],\n",
              " '2': ['10006'],\n",
              " '3': [],\n",
              " '4': ['900', '909']}"
            ]
          },
          "metadata": {},
          "execution_count": 2
        }
      ]
    },
    {
      "cell_type": "code",
      "source": [
        "def add_shell():\n",
        "    new_rez = {}\n",
        "    new_res_1= []\n",
        "    for key in directories.keys():\n",
        "      new_res_1.append(key)\n",
        "\n",
        "    new_shell = input(\"Введите номер полки : \")\n",
        "    if new_shell not in new_res_1:\n",
        "      new_res_1.append(new_shell)\n",
        "      new_new = {new_res_1[-1]: []} #или лучше/правильнее прописывать: = {new_res_1[-1]: None} ???\n",
        "      directories.update(new_new)\n",
        "      print(f\"Полка добавлена. Новый перечень полок: {' '.join(new_res_1)}\")\n",
        "    else:\n",
        "      new_res_1 = new_res_1\n",
        "      print(f\"Такая полка уже существует. Текущий перечень полок: {' '.join(new_res_1)}\")\n",
        "\n",
        "add_shell()\n",
        "\n",
        "print(directories)"
      ],
      "metadata": {
        "colab": {
          "base_uri": "https://localhost:8080/"
        },
        "id": "sFnoY6bqaB4U",
        "outputId": "86290b78-c86e-48d4-883f-97cb2916dffc"
      },
      "execution_count": null,
      "outputs": [
        {
          "output_type": "stream",
          "name": "stdout",
          "text": [
            "Введите номер полки : 5\n",
            "Полка добавлена. Новый перечень полок: 1 2 3 4 5\n",
            "{'1': ['2207 876234', '11-2', '22-22'], '2': ['10006'], '3': [], '4': ['900', '909'], '5': []}\n"
          ]
        }
      ]
    },
    {
      "cell_type": "markdown",
      "source": [
        "Вот вариант много лучше, без циклов при добавлении/удалении полок\n",
        "\n",
        "т.к. проверку наличия полки можно организовать просто при помощи оператора in, например, так:"
      ],
      "metadata": {
        "id": "5l8pkTpamcsk"
      }
    },
    {
      "cell_type": "code",
      "source": [
        "def add_shelf():\n",
        "    user_input = input('Введите номер полки, которую хотите добавить: ')\n",
        "    if user_input in directories:\n",
        "        print(f'Такая полка уже существует. Текущий перечень полок: {\", \".join(directories.keys())}')\n",
        "    else:\n",
        "        directories[user_input] = []\n",
        "        shelves_list = list(directories.keys())\n",
        "        print(f'Полка добавлена. Текущий перечень полок: {\", \".join(directories.keys())}')\n"
      ],
      "metadata": {
        "id": "6cVB0xyjx3hU"
      },
      "execution_count": null,
      "outputs": []
    },
    {
      "cell_type": "markdown",
      "source": [
        "###Пункт 5. \n",
        "Пользователь по команде \"ds\" может удалить существующую полку из данных (только если она пустая)\n",
        "Примеры работы:\n",
        "```\n",
        "1.\n",
        "\n",
        "Введите команду:\n",
        "ds\n",
        "\n",
        "Введите номер полки:\n",
        "3\n",
        "Результат:\n",
        "Полка удалена. Текущий перечень полок: 1, 2.\n",
        "\n",
        "2.\n",
        "\n",
        "Введите команду:\n",
        "ds\n",
        "\n",
        "Введите номер полки:\n",
        "1\n",
        "Результат:\n",
        "На полке есть документа, удалите их перед удалением полки. Текущий перечень полок: 1, 2, 3.\n",
        "\n",
        "3.\n",
        "\n",
        "Введите команду:\n",
        "ds\n",
        "\n",
        "Введите номер полки:\n",
        "4\n",
        "Результат:\n",
        "Такой полки не существует. Текущий перечень полок: 1, 2, 3.\n",
        "\n",
        "```"
      ],
      "metadata": {
        "id": "L8NSaM4hwHXu"
      }
    },
    {
      "cell_type": "code",
      "source": [
        "def delete_shell():\n",
        "    i_wonna_del = input(\"Введите номер полки, которую хотите удалить \")\n",
        "\n",
        "\n",
        "    new_res_1= []\n",
        "    for key in directories.keys():\n",
        "      new_res_1.append(key)\n",
        "\n",
        "    is_empty = []\n",
        "    for key, value in directories.items():\n",
        "        #print(key, \" \", len(value))\n",
        "        if len(value) == 0:\n",
        "            #directories.pop(key) #!!!! RuntimeError: dictionary changed size during iteration\n",
        "            is_empty.append(key)\n",
        "\n",
        "    #print(is_empty)\n",
        "\n",
        "    if i_wonna_del in is_empty:\n",
        "        directories.pop(i_wonna_del)\n",
        "        new_keys = []\n",
        "        for key in directories.keys():\n",
        "            new_keys.append(key)\n",
        "        print(f\"Полка удалена. Новый перечень полок: {' '.join(new_keys)}\") \n",
        "    else:\n",
        "        # old_keys = []\n",
        "        # for key in directories.keys():\n",
        "        #     old_keys.append(key)\n",
        "        print(f\"На полке есть документы, удалите их перед удалением полки. Текущий перечень полок: {' '.join(directories.keys())}\")\n",
        "\n",
        "\n",
        "delete_shell()\n",
        "print(directories)"
      ],
      "metadata": {
        "colab": {
          "base_uri": "https://localhost:8080/"
        },
        "id": "1GZwnbT7bWqW",
        "outputId": "6f805775-9ed2-4ce0-97f8-db32d2762272"
      },
      "execution_count": null,
      "outputs": [
        {
          "output_type": "stream",
          "name": "stdout",
          "text": [
            "Введите номер полки, которую хотите удалить 5\n",
            "Полка удалена. Новый перечень полок: 1 2 3 4\n",
            "{'1': ['2207 876234', '11-2', '22-22'], '2': ['10006'], '3': [], '4': ['900', '909']}\n"
          ]
        }
      ]
    },
    {
      "cell_type": "markdown",
      "source": [
        "Вызов функции с циклом обработки пользовательского ввода в последнюю ячейку. При таком сценарии код не будет падать с ошибкой при последовательном запуске ячеек, т.к. функции уже объявлены. \n",
        "\n",
        "Необходимо всегда предполагать именно последовательный запуск функционала;"
      ],
      "metadata": {
        "id": "jJxUluzEm7N6"
      }
    },
    {
      "cell_type": "code",
      "source": [
        "def start_working():\n",
        "    command_dict = {\n",
        "        'p': find_doc,\n",
        "        's': find_shell,\n",
        "        'l': all_info_about_docs,\n",
        "        'ads': add_shell,\n",
        "        'ds': delete_shell\n",
        "    }\n",
        "\n",
        "    print(\"Привет! Для продолжения работы выбери одну из известных только тебе команд))\")\n",
        "\n",
        "    while True:\n",
        "        user_cmd = input('Введите команду ')\n",
        "        if user_cmd in command_dict:\n",
        "            res = command_dict[user_cmd]()\n",
        "        elif user_cmd == 'q':\n",
        "            print('До свидания')\n",
        "            break\n",
        "        else:\n",
        "            print('Некорректный ввод! Проверьте правильность вводимой команды')\n",
        "start_working()"
      ],
      "metadata": {
        "colab": {
          "base_uri": "https://localhost:8080/"
        },
        "id": "V0iO7D3nmDby",
        "outputId": "4e4164f2-a8a1-455b-ca30-57f483927536"
      },
      "execution_count": null,
      "outputs": [
        {
          "output_type": "stream",
          "name": "stdout",
          "text": [
            "Привет! Для продолжения работы выбери одну из известных только тебе команд))\n",
            "Введите команду д\n",
            "Некорректный ввод! Проверьте правильность вводимой команды\n",
            "Введите команду l\n",
            "№: 2207 876234, тип: passport, владелец: Василий Гупкин, полка хранения:  1\n",
            "№: 11-2, тип: invoice, владелец: Геннадий Покемонов, полка хранения:  1\n",
            "№: 10006, тип: insurance, владелец: Аристарх Павлов, полка хранения:  2\n",
            "Введите команду s\n",
            "Input your number 11-2\n",
            "On the shell 1\n",
            "Введите команду q\n",
            "До свидания\n"
          ]
        }
      ]
    },
    {
      "cell_type": "markdown",
      "source": [
        "#Полезные ресурсы\n",
        "\n",
        "[Добавить значение и ключ в словарь из инпута](https://ru.stackoverflow.com/questions/1180424/%D0%94%D0%BE%D0%B1%D0%B0%D0%B2%D0%B8%D1%82%D1%8C-%D1%8D%D0%BB%D0%B5%D0%BC%D0%B5%D0%BD%D1%82%D1%8B-%D0%B2-%D1%81%D0%BB%D0%BE%D0%B2%D0%B0%D1%80%D1%8C-%D1%87%D0%B5%D1%80%D0%B5%D0%B7-input)\n",
        "\n",
        "[Метод dict.get()](https://docs-python.ru/tutorial/operatsii-slovarjami-dict-python/metod-dict-get/#:~:text=%D0%9E%D0%BF%D0%B8%D1%81%D0%B0%D0%BD%D0%B8%D0%B5%3A-,%D0%9C%D0%B5%D1%82%D0%BE%D0%B4%20dict.,%D1%82%D0%BE%20%D0%BC%D0%B5%D1%82%D0%BE%D0%B4%20%D0%B2%D0%B5%D1%80%D0%BD%D0%B5%D1%82%20%D0%B7%D0%BD%D0%B0%D1%87%D0%B5%D0%BD%D0%B8%D0%B5%20None%20) \n",
        "можно применить, например, для подсчета количества одинаковых элементов последовательности. \n",
        "Допустим есть список чисел или слов (символов) или то и другое и необходимо узнать, сколько раз КАЖДЫЙ элемент встречается в этом списке. Для решения этой задачи создадим пустой словарь, в который будем добавлять в качестве ключа - элемент списка (словари, в качестве ключа могут принимать неизменяемые значения), а в качестве значения будет количество появлений этого элемента в списке.\n",
        "\n",
        "[Добавление ключей, значений в словарь](https://pythobyte.com/python-how-to-add-keys-to-dictionary-0e274399/#:~:text=%D0%92%20Python%20%D0%BC%D1%8B%20%D0%BC%D0%BE%D0%B6%D0%B5%D0%BC%20%D0%B4%D0%BE%D0%B1%D0%B0%D0%B2%D0%B8%D1%82%D1%8C,%D1%81%D0%BB%D0%BE%D0%B2%D0%B0%D1%80%D1%8C%20%D0%BD%D0%BE%D0%B2%D1%8B%D0%BC%D0%B8%20%D0%BF%D0%B0%D1%80%D0%B0%D0%BC%D0%B8%20%D0%BA%D0%BB%D1%8E%D1%87%2D%D0%B7%D0%BD%D0%B0%D1%87%D0%B5%D0%BD%D0%B8%D0%B5)\n",
        "\n",
        "\n",
        "[Python Удалить ключ: значение из словаря](https://pythobyte.com/python-delete-key-from-dictionary-3c14189d/)\n",
        "\n",
        "https://www.programiz.com/python-programming/methods/string/join"
      ],
      "metadata": {
        "id": "L2KxxZ0tJEkz"
      }
    }
  ],
  "metadata": {
    "kernelspec": {
      "display_name": "Python 3",
      "language": "python",
      "name": "python3"
    },
    "language_info": {
      "codemirror_mode": {
        "name": "ipython",
        "version": 3
      },
      "file_extension": ".py",
      "mimetype": "text/x-python",
      "name": "python",
      "nbconvert_exporter": "python",
      "pygments_lexer": "ipython3",
      "version": "3.8.5"
    },
    "colab": {
      "provenance": [],
      "collapsed_sections": [
        "rpIV4w92LSdh",
        "bTtjUFHHnaCI",
        "mNT4OAhDvo1Q",
        "L2KxxZ0tJEkz"
      ],
      "include_colab_link": true
    }
  },
  "nbformat": 4,
  "nbformat_minor": 0
}