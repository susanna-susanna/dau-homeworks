{
  "nbformat": 4,
  "nbformat_minor": 0,
  "metadata": {
    "colab": {
      "provenance": [],
      "include_colab_link": true
    },
    "kernelspec": {
      "name": "python3",
      "display_name": "Python 3"
    },
    "language_info": {
      "name": "python"
    }
  },
  "cells": [
    {
      "cell_type": "markdown",
      "metadata": {
        "id": "view-in-github",
        "colab_type": "text"
      },
      "source": [
        "<a href=\"https://colab.research.google.com/github/susanna-susanna/dau-homeworks/blob/main/hw_5_%D0%A0%D0%B0%D0%B1%D0%BE%D1%82%D0%B0_%D1%81_%D1%84%D0%B0%D0%B9%D0%BB%D0%BE%D0%B2%D0%BE%D0%B9_%D1%81%D0%B8%D1%81%D1%82%D0%B5%D0%BC%D0%BE%D0%B9.ipynb\" target=\"_parent\"><img src=\"https://colab.research.google.com/assets/colab-badge.svg\" alt=\"Open In Colab\"/></a>"
      ]
    },
    {
      "cell_type": "markdown",
      "source": [
        "Ноут с практического занятия\n",
        "\n",
        "https://colab.research.google.com/drive/1nVoUsvZdw92T1Z8_BuNI35LffNsVlmfJ"
      ],
      "metadata": {
        "id": "GZILM_hkVFtB"
      }
    },
    {
      "cell_type": "markdown",
      "source": [
        "##Домашнее задание\n",
        "\n",
        "###1\n",
        "Переведите содержимое файла `purchase_log.txt` в словарь purchases вида:\n",
        "`{‘1840e0b9d4’: ‘Продукты’, …}`\n",
        "###2\n",
        "* Для каждого `user_id` в файле `visit_log.csv` определите третий столбец с категорией покупки (если покупка была, сам файл `visit_log.csv` изменять не надо)\n",
        "\n",
        "* Запишите в файл `funnel.csv` визиты из файла `visit_log.csv`, в которых были покупки с указанием категории.\n",
        "\n",
        "\n",
        "* Учтите условия на данные:\n",
        "содержимое `purchase_log.txt` помещается в оперативную память компьютера\n",
        "содержимое `visit_log.csv` - нет; используйте только построчную обработку этого файла\n",
        "\n",
        "\n"
      ],
      "metadata": {
        "id": "6y14g5GZ_dGQ"
      }
    },
    {
      "cell_type": "code",
      "source": [
        "from google.colab import drive\n",
        "drive.mount('/content/drive')"
      ],
      "metadata": {
        "colab": {
          "base_uri": "https://localhost:8080/"
        },
        "id": "vySKo1Yd-hry",
        "outputId": "1686c360-7ffe-40d6-a78c-019549d92212"
      },
      "execution_count": null,
      "outputs": [
        {
          "output_type": "stream",
          "name": "stdout",
          "text": [
            "Mounted at /content/drive\n"
          ]
        }
      ]
    },
    {
      "cell_type": "code",
      "source": [
        "!ls"
      ],
      "metadata": {
        "colab": {
          "base_uri": "https://localhost:8080/"
        },
        "id": "KMyUBtRk-uzi",
        "outputId": "0716315f-a5ae-4423-d2c4-6053f188e9d2"
      },
      "execution_count": null,
      "outputs": [
        {
          "output_type": "stream",
          "name": "stdout",
          "text": [
            "drive  sample_data\n"
          ]
        }
      ]
    },
    {
      "cell_type": "code",
      "execution_count": null,
      "metadata": {
        "id": "6Tw3ZW6I_XJR"
      },
      "outputs": [],
      "source": [
        "purchase = open('/content/drive/MyDrive/Моя Учёба/copy_purchase_log.txt', 'r', encoding='utf-8')"
      ]
    },
    {
      "cell_type": "code",
      "source": [
        "purchase.readline()"
      ],
      "metadata": {
        "colab": {
          "base_uri": "https://localhost:8080/",
          "height": 35
        },
        "id": "X7_AyLX5_kYZ",
        "outputId": "d116121a-71da-4a87-b5ae-7f890c3e71a9"
      },
      "execution_count": null,
      "outputs": [
        {
          "output_type": "execute_result",
          "data": {
            "text/plain": [
              "'{\"user_id\": \"user_id\", \"category\": \"category\"}\\n'"
            ],
            "application/vnd.google.colaboratory.intrinsic+json": {
              "type": "string"
            }
          },
          "metadata": {},
          "execution_count": 7
        }
      ]
    },
    {
      "cell_type": "code",
      "source": [
        "next(purchase)"
      ],
      "metadata": {
        "colab": {
          "base_uri": "https://localhost:8080/",
          "height": 35
        },
        "id": "HoKUXzx7_xDv",
        "outputId": "0438e979-6493-4678-f3a8-1b8b819e7a31"
      },
      "execution_count": null,
      "outputs": [
        {
          "output_type": "execute_result",
          "data": {
            "text/plain": [
              "'{\"user_id\": \"1840e0b9d4\", \"category\": \"Продукты\"}\\n'"
            ],
            "application/vnd.google.colaboratory.intrinsic+json": {
              "type": "string"
            }
          },
          "metadata": {},
          "execution_count": 8
        }
      ]
    },
    {
      "cell_type": "code",
      "source": [
        "import json"
      ],
      "metadata": {
        "id": "hKrub9m-CrT7"
      },
      "execution_count": null,
      "outputs": []
    },
    {
      "cell_type": "code",
      "source": [
        "purchase_dict = {}"
      ],
      "metadata": {
        "id": "Ic6aWgKWDu2n"
      },
      "execution_count": null,
      "outputs": []
    },
    {
      "cell_type": "code",
      "source": [
        "for i, line in enumerate(purchase):\n",
        "    new_line = json.loads(line)\n",
        "    new_elem = {new_line['user_id']: new_line['category']}\n",
        "    purchase_dict.update(new_elem)\n",
        "    \n",
        "#     if i > 5:\n",
        "#         break\n",
        "\n",
        "# print(purchase_dict)\n",
        "# print(type(purchase_dict))"
      ],
      "metadata": {
        "colab": {
          "base_uri": "https://localhost:8080/"
        },
        "id": "E6XWw-my9Mk3",
        "outputId": "4b452c80-e0c9-416a-9e53-3303f47f7ca7"
      },
      "execution_count": null,
      "outputs": [
        {
          "output_type": "stream",
          "name": "stdout",
          "text": [
            "{'03b91dba06': 'Электроника', '6cb42b2632': 'Бытовая техника', '9ab8f3bbb8': 'Бытовая техника', '63df9ee9d3': 'Электроника', '2ffd6c724d': 'Продукты', 'af24cffd03': 'Электроника', '421149bb9a': 'Строительство и ремонт', '24300c6d1c': 'Электроника', '9ca11a651f': 'Электроника', 'b7e640032f': 'Электроника', '3691ad282b': 'Электроника', '00ea2f7484': 'Электроника', '6f198ac1c9': 'Бытовая техника', '0d479d4259': 'Электроника', 'b461051101': 'Досуг', 'd39a1d56c3': 'Бытовая техника', '316ab03143': 'Товары для животных', '78ed39a415': 'Электроника', '19d1e4e036': 'Товары для животных', '9e765c6822': 'Продукты', 'ddd50eaa45': 'Электроника'}\n",
            "<class 'dict'>\n"
          ]
        }
      ]
    },
    {
      "cell_type": "markdown",
      "source": [
        "Это задание можно решить по-другому: обойтись без промежуточного словаря new_elem:"
      ],
      "metadata": {
        "id": "qcviWYnUt2ti"
      }
    },
    {
      "cell_type": "code",
      "source": [
        "for i, line in enumerate(purchase):\n",
        "    new_line = json.loads(line)\n",
        "    purchase_dict[new_line['user_id']] = new_line['category']"
      ],
      "metadata": {
        "id": "1z2tSTTzUABe"
      },
      "execution_count": null,
      "outputs": []
    },
    {
      "cell_type": "code",
      "source": [
        "visit_log = open('/content/drive/MyDrive/Моя Учёба/copy_visit_log.csv', 'r', encoding='utf-8')"
      ],
      "metadata": {
        "id": "HQkYjUWe-VFr"
      },
      "execution_count": null,
      "outputs": []
    },
    {
      "cell_type": "code",
      "source": [
        "visit_log.readline()"
      ],
      "metadata": {
        "colab": {
          "base_uri": "https://localhost:8080/",
          "height": 35
        },
        "id": "nFmFGDGHUQ7D",
        "outputId": "c3466eba-52be-4909-c8ba-10957a4c089e"
      },
      "execution_count": null,
      "outputs": [
        {
          "output_type": "execute_result",
          "data": {
            "text/plain": [
              "'user_id,source\\n'"
            ],
            "application/vnd.google.colaboratory.intrinsic+json": {
              "type": "string"
            }
          },
          "metadata": {},
          "execution_count": 31
        }
      ]
    },
    {
      "cell_type": "code",
      "source": [
        "next(visit_log)"
      ],
      "metadata": {
        "colab": {
          "base_uri": "https://localhost:8080/",
          "height": 35
        },
        "id": "cumpPIdCUaYf",
        "outputId": "88c7d6ca-c60c-4543-eb88-6f92b54947b1"
      },
      "execution_count": null,
      "outputs": [
        {
          "output_type": "execute_result",
          "data": {
            "text/plain": [
              "'6450655ae8,other\\n'"
            ],
            "application/vnd.google.colaboratory.intrinsic+json": {
              "type": "string"
            }
          },
          "metadata": {},
          "execution_count": 32
        }
      ]
    },
    {
      "cell_type": "code",
      "source": [
        "purchase_dict.get('9ab8f3bbb8')"
      ],
      "metadata": {
        "colab": {
          "base_uri": "https://localhost:8080/",
          "height": 35
        },
        "id": "cvCyLVS4a7Tn",
        "outputId": "9009de81-6ccd-47e6-ce7b-43d55a1a83dc"
      },
      "execution_count": null,
      "outputs": [
        {
          "output_type": "execute_result",
          "data": {
            "text/plain": [
              "'Бытовая техника'"
            ],
            "application/vnd.google.colaboratory.intrinsic+json": {
              "type": "string"
            }
          },
          "metadata": {},
          "execution_count": 41
        }
      ]
    },
    {
      "cell_type": "code",
      "source": [
        "with open('funnel.csv', 'w') as funnel_file:\n",
        "    with open('/content/drive/MyDrive/Моя Учёба/copy_visit_log.csv', 'r', encoding='UTF-8') as visits_file:\n",
        "        funnel_file.write('user_id,source,category\\n')\n",
        "        for line in visits_file:\n",
        "            user_id, source = line.strip().split(',')\n",
        "            if purchase_dict.get(user_id):\n",
        "                funnel_file.write(f'{user_id},{source},{purchase_dict.get(user_id)}\\n')\n"
      ],
      "metadata": {
        "id": "PZTgqoXJfGDh"
      },
      "execution_count": null,
      "outputs": []
    },
    {
      "cell_type": "markdown",
      "source": [
        "#Полезные ресурсы\n",
        "\n",
        "[Подключиться напрямую к гуглдиску для чтения csv файлов](https://stackoverflow.com/questions/48376580/google-colab-how-to-read-data-from-my-google-drive)\n",
        "\n",
        "\n",
        "можно ли записывать файл сразу на диск, что-то типа:\n",
        "```\n",
        "with open('/content/drive/MyDrive/Моя Учёба/copy_visit_log.csv', 'r') as funnel_file:\n",
        "```\n",
        "?\n",
        "\n",
        "---\n",
        "\n",
        "Посмотреть примеры в документации colab [про запись в файлы в колабе](https://colab.research.google.com/github/computationalcore/introduction-to-python/blob/master/notebooks/4-files/PY0101EN-4-2-WriteFile.ipynb#scrollTo=H_hgPfRe0uqC)\n"
      ],
      "metadata": {
        "id": "95h_5ZwDhGjK"
      }
    },
    {
      "cell_type": "code",
      "source": [
        "result = open('funnel.csv', 'r', encoding='UTF-8')"
      ],
      "metadata": {
        "id": "NdqQ437MeDTB"
      },
      "execution_count": null,
      "outputs": []
    },
    {
      "cell_type": "code",
      "source": [
        "result.readline()"
      ],
      "metadata": {
        "colab": {
          "base_uri": "https://localhost:8080/",
          "height": 35
        },
        "id": "UmMqYxEneniU",
        "outputId": "7bb6ce51-bb52-4f89-cd34-ddbe9982612e"
      },
      "execution_count": null,
      "outputs": [
        {
          "output_type": "execute_result",
          "data": {
            "text/plain": [
              "'user_id, source, category\\n'"
            ],
            "application/vnd.google.colaboratory.intrinsic+json": {
              "type": "string"
            }
          },
          "metadata": {},
          "execution_count": 59
        }
      ]
    }
  ]
}