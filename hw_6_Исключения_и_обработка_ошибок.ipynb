{
  "nbformat": 4,
  "nbformat_minor": 0,
  "metadata": {
    "colab": {
      "provenance": [],
      "include_colab_link": true
    },
    "kernelspec": {
      "name": "python3",
      "display_name": "Python 3"
    },
    "language_info": {
      "name": "python"
    }
  },
  "cells": [
    {
      "cell_type": "markdown",
      "metadata": {
        "id": "view-in-github",
        "colab_type": "text"
      },
      "source": [
        "<a href=\"https://colab.research.google.com/github/susanna-susanna/dau-homeworks/blob/main/hw_6_%D0%98%D1%81%D0%BA%D0%BB%D1%8E%D1%87%D0%B5%D0%BD%D0%B8%D1%8F_%D0%B8_%D0%BE%D0%B1%D1%80%D0%B0%D0%B1%D0%BE%D1%82%D0%BA%D0%B0_%D0%BE%D1%88%D0%B8%D0%B1%D0%BE%D0%BA.ipynb\" target=\"_parent\"><img src=\"https://colab.research.google.com/assets/colab-badge.svg\" alt=\"Open In Colab\"/></a>"
      ]
    },
    {
      "cell_type": "markdown",
      "source": [
        "##Задание 1\n",
        "Печатные газеты использовали свой формат дат для каждого выпуска. Для каждой газеты из списка напишите формат указанной даты для перевода в объект datetime:\n",
        "\n",
        "The Moscow Times - Wednesday, October 2, 2002\n",
        "\n",
        "The Guardian - Friday, 11.10.13\n",
        "\n",
        "Daily News - Thursday, 18 August 1977"
      ],
      "metadata": {
        "id": "gCz_cyahnVyI"
      }
    },
    {
      "cell_type": "code",
      "source": [
        "from datetime import datetime"
      ],
      "metadata": {
        "id": "YgxplmEcpFWY"
      },
      "execution_count": null,
      "outputs": []
    },
    {
      "cell_type": "code",
      "source": [
        "from datetime import timedelta"
      ],
      "metadata": {
        "id": "jo4nTGJ9pIoQ"
      },
      "execution_count": null,
      "outputs": []
    },
    {
      "cell_type": "code",
      "execution_count": null,
      "metadata": {
        "colab": {
          "base_uri": "https://localhost:8080/"
        },
        "id": "1St3RPvinQUN",
        "outputId": "6f7bed05-aa81-4be5-c23c-99351fb4d343"
      },
      "outputs": [
        {
          "output_type": "execute_result",
          "data": {
            "text/plain": [
              "datetime.datetime(2022, 4, 26, 11, 32, 8, 159636)"
            ]
          },
          "metadata": {},
          "execution_count": 3
        }
      ],
      "source": [
        "datetime.now()"
      ]
    },
    {
      "cell_type": "code",
      "source": [
        "# The Moscow Times\n",
        "tmt = datetime.now().strftime('%A, %B %d, %Y')\n",
        "print(tmt)"
      ],
      "metadata": {
        "colab": {
          "base_uri": "https://localhost:8080/"
        },
        "id": "Lz-5tMfZo17O",
        "outputId": "f1ccf95a-5aba-4f31-f1b2-2d304b18b022"
      },
      "execution_count": null,
      "outputs": [
        {
          "output_type": "stream",
          "name": "stdout",
          "text": [
            "Tuesday, April 26, 2022\n"
          ]
        }
      ]
    },
    {
      "cell_type": "code",
      "source": [
        "# The Guardian, если дата указана в формате дд-мм-гг\n",
        "tg = datetime.now().strftime('%A, %d.%m.%Y')\n",
        "print(tg)\n",
        "\n",
        "# The Guardian, если дата указана в формате мм-дд-гг\n",
        "tg_1 = datetime.now().strftime('%A, %m.%d.%Y')\n",
        "print(tg_1)"
      ],
      "metadata": {
        "colab": {
          "base_uri": "https://localhost:8080/"
        },
        "id": "Q5e_iXqfpuJM",
        "outputId": "63ce9f68-1c4b-4b4a-f0ba-ae2085d4939d"
      },
      "execution_count": null,
      "outputs": [
        {
          "output_type": "stream",
          "name": "stdout",
          "text": [
            "Tuesday, 26.04.2022\n",
            "Tuesday, 04.26.2022\n"
          ]
        }
      ]
    },
    {
      "cell_type": "code",
      "source": [
        "# Daily News\n",
        "dn = datetime.now().strftime('%A, %d %B %Y')\n",
        "print(dn)"
      ],
      "metadata": {
        "colab": {
          "base_uri": "https://localhost:8080/"
        },
        "id": "1Qhikd3cqeGw",
        "outputId": "206b82d0-194a-493a-a504-79af503efdc1"
      },
      "execution_count": null,
      "outputs": [
        {
          "output_type": "stream",
          "name": "stdout",
          "text": [
            "Tuesday, 26 April 2022\n"
          ]
        }
      ]
    },
    {
      "cell_type": "markdown",
      "source": [
        "##Задание 2\n",
        "Дан поток дат в формате `YYYY-MM-DD`, в которых встречаются некорректные значения:\n",
        "`stream = [‘2018-04-02’, ‘2018-02-29’, ‘2018-19-02’`]\n",
        "\n",
        "Напишите функцию, которая проверяет эти даты на корректность. Т. е. для каждой даты возвращает True (дата корректна) или False (некорректная дата)."
      ],
      "metadata": {
        "id": "LahalIHIq8du"
      }
    },
    {
      "cell_type": "code",
      "source": [
        "stream = ['2018-04-02', '2018-02-29', '2018-19-02', '2020-05-16', '20220-09-01', '2020-19-01', '2020-09-01']"
      ],
      "metadata": {
        "id": "5fJ9b_bJsedU"
      },
      "execution_count": null,
      "outputs": []
    },
    {
      "cell_type": "code",
      "source": [
        "def checking(my_list):\n",
        "  for item in my_list:\n",
        "    try:\n",
        "      valid_date = datetime.strptime(item, '%Y-%m-%d')\n",
        "      print(item)\n",
        "    except ValueError:\n",
        "      print(item, 'Invalid date!')"
      ],
      "metadata": {
        "id": "8VXl1h8Ssnzd"
      },
      "execution_count": null,
      "outputs": []
    },
    {
      "cell_type": "code",
      "source": [
        "checking(stream)"
      ],
      "metadata": {
        "colab": {
          "base_uri": "https://localhost:8080/"
        },
        "id": "nRokl1e76JBs",
        "outputId": "f8c451c6-9598-4a4f-b3b6-6e010a37cb88"
      },
      "execution_count": null,
      "outputs": [
        {
          "output_type": "stream",
          "name": "stdout",
          "text": [
            "2018-04-02\n",
            "2018-02-29 Invalid date!\n",
            "2018-19-02 Invalid date!\n",
            "2020-05-16\n",
            "20220-09-01 Invalid date!\n",
            "2020-19-01 Invalid date!\n",
            "2020-09-01\n"
          ]
        }
      ]
    },
    {
      "cell_type": "markdown",
      "source": [
        "##Задание 3\n",
        "Напишите функцию `date_range`, которая возвращает список дат за период от `start_date` до `end_date`. \n",
        "\n",
        "Даты должны вводиться в формате `YYYY-MM-DD`. \n",
        "\n",
        "В случае неверного формата или при `start_date > end_date` должен возвращаться пустой список."
      ],
      "metadata": {
        "id": "D4yhLVwI-9b0"
      }
    },
    {
      "cell_type": "code",
      "source": [
        "start_date = '2018-01-01'\n",
        "end_date = '2018-14-07'"
      ],
      "metadata": {
        "id": "f6hTDpmk-8qY"
      },
      "execution_count": null,
      "outputs": []
    },
    {
      "cell_type": "markdown",
      "source": [
        "Во втором задании **корректность формата проверяется с помощью конструкции `try-except**`. Это верный вариант проверки.\n",
        "\n",
        "Здесь (выделила комментариями неправильное использование строк, чтоб был пример перед глазами) код падает на аналогичных строчках без блока `try-except`:\n",
        "```\n",
        "start_date_dt = datetime.strptime(start_day, '%Y-%m-%d')\n",
        "end_date_dt = datetime.strptime(end_day, '%Y-%m-%d')\n",
        "```\n"
      ],
      "metadata": {
        "id": "cygiY_y2xyrY"
      }
    },
    {
      "cell_type": "code",
      "source": [
        "def date_list(start_day, end_day):\n",
        "  # start_date_dt = datetime.strptime(start_day, '%Y-%m-%d')\n",
        "  # end_date_dt = datetime.strptime(end_day, '%Y-%m-%d')\n",
        "\n",
        "  my_date_list = []\n",
        "\n",
        "  if start_day <= end_day:\n",
        "    # сurrent_dt = start_date_dt\n",
        "    current_dt = datetime.strptime(start_day, '%Y-%m-%d')\n",
        "\n",
        "    while current_dt.strftime('%Y-%m-%d') <= end_day:\n",
        "       my_date_list.append(current_dt.strftime('%Y-%m-%d'))\n",
        "       current_dt += timedelta(days=1)\n",
        "        \n",
        "  for item in my_date_list:\n",
        "    try:\n",
        "      start_date_dt = datetime.strptime(start_day, '%Y-%m-%d')\n",
        "      end_date_dt = datetime.strptime(end_day, '%Y-%m-%d')\n",
        "      # valid_date = datetime.strptime(item, '%Y-%m-%d') #??? нужна ли теперь эта строка?)\n",
        "    except ValueError:\n",
        "      my_date_list = []\n",
        "\n",
        "  print(my_date_list)"
      ],
      "metadata": {
        "id": "ocXeUHpJvg5J"
      },
      "execution_count": null,
      "outputs": []
    },
    {
      "cell_type": "code",
      "source": [
        "date_list(start_date, end_date)"
      ],
      "metadata": {
        "colab": {
          "base_uri": "https://localhost:8080/"
        },
        "id": "gnvH_G1iqkz2",
        "outputId": "87d0c9e2-44d1-448a-e2ed-5eeb21209dd0"
      },
      "execution_count": null,
      "outputs": [
        {
          "output_type": "stream",
          "name": "stdout",
          "text": [
            "[]\n"
          ]
        }
      ]
    },
    {
      "cell_type": "markdown",
      "source": [
        "##Задание 4 (необязательное)\n",
        "Ваш коллега прислал код функции:\n",
        "```\n",
        "DEFAULT_USER_COUNT = 3\n",
        "\n",
        "def delete_and_return_last_user(region, default_list=[‘A100’, ‘A101’, ‘A102’]):\n",
        "```\n",
        "\n",
        "Удаляет из списка `default_list` последнего пользователя\n",
        "и возвращает ID нового последнего пользователя.\n",
        "\n",
        "```\n",
        "element_to_delete = default_list[-1]\n",
        "default_list.remove(element_to_delete)\n",
        "```\n",
        "\n",
        "```\n",
        "return default_list[DEFAULT_USER_COUNT-2]\n",
        "```\n",
        "\n",
        "При однократном вызове этой функции всё работает корректно:\n",
        "```\n",
        "delete_and_return_last_user(1)\n",
        "‘A101’\n",
        "```\n",
        "\n",
        "Однако при повторном вызове получается ошибка `IndexError: list index out of range`.\n",
        "\n",
        "Задание:\n",
        "\n",
        "* Что значит ошибка list index out of range?\n",
        "* Почему при первом запуске функция работает корректно, а при втором — нет?"
      ],
      "metadata": {
        "id": "VoEFWbJihHiS"
      }
    },
    {
      "cell_type": "code",
      "source": [
        "DEFAULT_USER_COUNT = 3"
      ],
      "metadata": {
        "id": "Vyxu1Wv9zNxI"
      },
      "execution_count": 9,
      "outputs": []
    },
    {
      "cell_type": "code",
      "source": [
        "def delete_and_return_last_user(region, default_list=['A100', 'A101', 'A102']):\n",
        "    \"\"\"\n",
        "    Удаляет из списка default_list последнего пользователя\n",
        "    и возвращает ID нового последнего пользователя.\n",
        "    \"\"\"\n",
        "    element_to_delete = default_list[-1]\n",
        "    default_list.remove(element_to_delete)\n",
        "\n",
        "    return default_list[DEFAULT_USER_COUNT-2]"
      ],
      "metadata": {
        "id": "tNw-SMHezZEg"
      },
      "execution_count": 16,
      "outputs": []
    },
    {
      "cell_type": "code",
      "source": [
        "delete_and_return_last_user(1)"
      ],
      "metadata": {
        "colab": {
          "base_uri": "https://localhost:8080/",
          "height": 35
        },
        "id": "l-FXXgL0z9ae",
        "outputId": "81ef2435-aeb9-47db-a049-3b6d245727ef"
      },
      "execution_count": 19,
      "outputs": [
        {
          "output_type": "execute_result",
          "data": {
            "text/plain": [
              "'A101'"
            ],
            "application/vnd.google.colaboratory.intrinsic+json": {
              "type": "string"
            }
          },
          "metadata": {},
          "execution_count": 19
        }
      ]
    },
    {
      "cell_type": "code",
      "source": [
        "delete_and_return_last_user(1)"
      ],
      "metadata": {
        "colab": {
          "base_uri": "https://localhost:8080/",
          "height": 253
        },
        "id": "KY1iH-lI0HtB",
        "outputId": "0ae9381d-3093-41e5-90fd-1f4a0ffe12b4"
      },
      "execution_count": 8,
      "outputs": [
        {
          "output_type": "error",
          "ename": "IndexError",
          "evalue": "ignored",
          "traceback": [
            "\u001b[0;31m---------------------------------------------------------------------------\u001b[0m",
            "\u001b[0;31mIndexError\u001b[0m                                Traceback (most recent call last)",
            "\u001b[0;32m<ipython-input-8-bfb6c4f8c48e>\u001b[0m in \u001b[0;36m<module>\u001b[0;34m\u001b[0m\n\u001b[0;32m----> 1\u001b[0;31m \u001b[0mdelete_and_return_last_user\u001b[0m\u001b[0;34m(\u001b[0m\u001b[0;36m1\u001b[0m\u001b[0;34m)\u001b[0m\u001b[0;34m\u001b[0m\u001b[0;34m\u001b[0m\u001b[0m\n\u001b[0m",
            "\u001b[0;32m<ipython-input-6-12df662486af>\u001b[0m in \u001b[0;36mdelete_and_return_last_user\u001b[0;34m(region, default_list)\u001b[0m\n\u001b[1;32m      7\u001b[0m     \u001b[0mdefault_list\u001b[0m\u001b[0;34m.\u001b[0m\u001b[0mremove\u001b[0m\u001b[0;34m(\u001b[0m\u001b[0melement_to_delete\u001b[0m\u001b[0;34m)\u001b[0m\u001b[0;34m\u001b[0m\u001b[0;34m\u001b[0m\u001b[0m\n\u001b[1;32m      8\u001b[0m \u001b[0;34m\u001b[0m\u001b[0m\n\u001b[0;32m----> 9\u001b[0;31m     \u001b[0;32mreturn\u001b[0m \u001b[0mdefault_list\u001b[0m\u001b[0;34m[\u001b[0m\u001b[0mDEFAULT_USER_COUNT\u001b[0m\u001b[0;34m-\u001b[0m\u001b[0;36m2\u001b[0m\u001b[0;34m]\u001b[0m\u001b[0;34m\u001b[0m\u001b[0;34m\u001b[0m\u001b[0m\n\u001b[0m",
            "\u001b[0;31mIndexError\u001b[0m: list index out of range"
          ]
        }
      ]
    },
    {
      "cell_type": "markdown",
      "source": [
        "Ошибка `list index out of range` возникает при попытке доступа к элементу в списке по индексу, выходящему за пределы. Диапазон списка в Python — `[0, n-1]`, где n— количество элементов в списке. При попытке доступа к элементу по индексу за пределами этого диапазона `IndexError: list index out of range` выдается ошибка.\n",
        "\n",
        "При первичном выполнении кода функции мы удалили последний элемент из списка. Получили длину списка 2, т.е индексы эелеменов будут 0 и 1. Запросили вернуть элемент с индексом 1. Получили.\n",
        "\n",
        "При вторичном выполнении кода функции мы опять удалили последний элемент списка и длина списка == 1, т.е. индекс этого элемента равен 0. Запросили вернуть элемент с индексом 1. Получаем соответствующую ошибку)\n",
        "\n"
      ],
      "metadata": {
        "id": "Nc63OgmC3Tde"
      }
    },
    {
      "cell_type": "markdown",
      "source": [
        "#Полезные ресурсы\n",
        "[datetime — **Basic date and time types**](https://docs.python.org/3/library/datetime.html)\n",
        "\n",
        "[strftime() and strptime() Format Codes](https://docs.python.org/3/library/datetime.html#strftime-and-strptime-format-codes)\n",
        "\n",
        "[Проверка даты в Python](https://ru.stackoverflow.com/questions/1024400/%D0%9F%D1%80%D0%BE%D0%B2%D0%B5%D1%80%D0%BA%D0%B0-%D0%B4%D0%B0%D1%82%D1%8B-%D0%B2-python)\n",
        "\n",
        "[Python args and kwargs: Demystified](https://realpython.com/python-kwargs-and-args/)\n",
        "\n",
        "[How to Fix IndexError in Python](https://rollbar.com/blog/python-indexerror/#:~:text=The%20Python%20IndexError%3A%20list%20index,with%20the%20len()%20function.)\n",
        "\n",
        "[Colab 1 с лекции](https://colab.research.google.com/drive/1phk0WE8dNQd7ChYTkYt9RmRnjYtfrNwj)\n",
        "\n",
        "[Colab 2 с лекции](https://colab.research.google.com/drive/1DcO9Rn_QyHOLzmPyQy2q-6wvfv7NhIn1)\n",
        "\n",
        "[Colab 3 с лекции](https://colab.research.google.com/drive/1s52ByngS_t9NgSmgEAK9bKcpO9Idncez)\n",
        "\n",
        "[Colab 4 с лекции](https://colab.research.google.com/drive/1FNb1Xi-wHvcQB5vYrhOWiUblQjMEJqeQ)"
      ],
      "metadata": {
        "id": "T4UaperMngWF"
      }
    }
  ]
}