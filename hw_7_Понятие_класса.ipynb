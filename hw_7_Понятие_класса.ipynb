{
  "nbformat": 4,
  "nbformat_minor": 0,
  "metadata": {
    "colab": {
      "provenance": [],
      "include_colab_link": true
    },
    "kernelspec": {
      "name": "python3",
      "display_name": "Python 3"
    },
    "language_info": {
      "name": "python"
    }
  },
  "cells": [
    {
      "cell_type": "markdown",
      "metadata": {
        "id": "view-in-github",
        "colab_type": "text"
      },
      "source": [
        "<a href=\"https://colab.research.google.com/github/susanna-susanna/dau-homeworks/blob/main/hw_7_%D0%9F%D0%BE%D0%BD%D1%8F%D1%82%D0%B8%D0%B5_%D0%BA%D0%BB%D0%B0%D1%81%D1%81%D0%B0.ipynb\" target=\"_parent\"><img src=\"https://colab.research.google.com/assets/colab-badge.svg\" alt=\"Open In Colab\"/></a>"
      ]
    },
    {
      "cell_type": "markdown",
      "source": [
        "##Задание 1\n",
        "Напишите функцию, которая возвращает название валюты (поле ‘Name’) с максимальным значением курса с помощью сервиса www.cbr-xml-daily.ru...ly_json.js\n",
        "\n"
      ],
      "metadata": {
        "id": "zszDFyv3M0UY"
      }
    },
    {
      "cell_type": "code",
      "source": [
        "import requests"
      ],
      "metadata": {
        "id": "4Voc9U0QMzjH"
      },
      "execution_count": null,
      "outputs": []
    },
    {
      "cell_type": "code",
      "source": [
        "def course():\n",
        "    \"\"\"\n",
        "    Функция возвращает название валюты с максимальным значением курса.\n",
        "    \"\"\"\n",
        "    read = requests.get('https://www.cbr-xml-daily.ru/daily_json.js')\n",
        "    \n",
        "    # max_val = max(read.json()[\"Valute\"].items(), key=lambda x: x[1][\"Value\"])\n",
        "    # max_name = max(read.json()[\"Valute\"].items(), key=lambda x: x[1][\"Value\"])[1]\n",
        "    just_name = max(read.json()[\"Valute\"].items(), key=lambda x: x[1][\"Value\"])[1][\"Name\"]\n",
        "\n",
        "    # print(max_val)\n",
        "    # print(max_name)\n",
        "    print(just_name)\n",
        "\n",
        "course()"
      ],
      "metadata": {
        "colab": {
          "base_uri": "https://localhost:8080/"
        },
        "id": "kGfIneGZOzPi",
        "outputId": "99f8644a-e39c-436d-8b14-0b3d088d2be8"
      },
      "execution_count": null,
      "outputs": [
        {
          "output_type": "stream",
          "name": "stdout",
          "text": [
            "Китайских юаней\n"
          ]
        }
      ]
    },
    {
      "cell_type": "markdown",
      "source": [
        "##Задание 2\n",
        "Добавьте в класс Rate параметр diff (со значениями True или False), который в случае значения True в методах курсов валют (eur, usd итд) будет возвращать не курс валюты, а изменение по сравнению в прошлым значением. Считайте, self.diff будет принимать значение True только при возврате значения курса. При отображении всей информации о валюте он не используется.\n",
        "\n"
      ],
      "metadata": {
        "id": "g8V0nzXtWuMq"
      }
    },
    {
      "cell_type": "code",
      "source": [
        "class Rate:\n",
        "    def __init__(self, format_='value', diff_=False): #задали единственный параметр -- формат ответа\n",
        "        self.format = format_  #сразу же задали атрибут, который сразу же будет доступен всем методам нашего класса\n",
        "        self.diff = diff_\n",
        "    \n",
        "    def exchange_rates(self):\n",
        "        \"\"\"\n",
        "        Возвращает ответ сервиса с информацией о валютах в виде:\n",
        "        \n",
        "        {\n",
        "            'AMD': {\n",
        "                'CharCode': 'AMD',\n",
        "                'ID': 'R01060',\n",
        "                'Name': 'Армянских драмов',\n",
        "                'Nominal': 100,\n",
        "                'NumCode': '051',\n",
        "                'Previous': 14.103,\n",
        "                'Value': 14.0879\n",
        "                },\n",
        "            ...\n",
        "        }\n",
        "        \"\"\"\n",
        "        self.r = requests.get('https://www.cbr-xml-daily.ru/daily_json.js')\n",
        "        return self.r.json()['Valute']\n",
        "    \n",
        "    def make_format(self, currency):\n",
        "        \"\"\"\n",
        "        Возвращает информацию о валюте currency в двух вариантах:\n",
        "        - полная информация о валюте при self.format = 'full':\n",
        "        Rate('full').make_format('EUR')\n",
        "        {\n",
        "            'CharCode': 'EUR',\n",
        "            'ID': 'R01239',\n",
        "            'Name': 'Евро',\n",
        "            'Nominal': 1,\n",
        "            'NumCode': '978',\n",
        "            'Previous': 79.6765,\n",
        "            'Value': 79.4966\n",
        "        }\n",
        "        \n",
        "        Rate('value').make_format('EUR')\n",
        "        79.4966\n",
        "        \"\"\"\n",
        "        response = self.exchange_rates()\n",
        "        \n",
        "        if currency in response:\n",
        "            if self.format == 'full':\n",
        "                return response[currency]\n",
        "            \n",
        "            if self.format == 'value':\n",
        "                if self.diff == True:\n",
        "                    return print(f\"Текущее значение {response[currency]['Value']}\\nИзменение на: {response[currency]['Value'] - response[currency]['Previous']}\")\n",
        "                else:\n",
        "                    return response[currency]['Value']\n",
        "        \n",
        "        return 'Error'\n",
        "    \n",
        "    def eur(self):\n",
        "        \"\"\"Возвращает курс евро на сегодня в формате self.format\"\"\"\n",
        "        return self.make_format('EUR')\n",
        "    \n",
        "    def usd(self):\n",
        "        \"\"\"Возвращает курс доллара на сегодня в формате self.format\"\"\"\n",
        "        return self.make_format('USD')\n",
        "    \n",
        "    def brl(self):\n",
        "        \"\"\"Возвращает курс бразильского реала на сегодня в формате self.format\"\"\"\n",
        "        return self.make_format('BRL')"
      ],
      "metadata": {
        "id": "mFtuPxp8Wxsw"
      },
      "execution_count": null,
      "outputs": []
    },
    {
      "cell_type": "code",
      "source": [
        "eur = Rate().eur()\n",
        "eur"
      ],
      "metadata": {
        "colab": {
          "base_uri": "https://localhost:8080/"
        },
        "id": "zO4gzPvSa0-L",
        "outputId": "63a8269d-08e2-443c-e996-f3126240ed4f"
      },
      "execution_count": null,
      "outputs": [
        {
          "output_type": "execute_result",
          "data": {
            "text/plain": [
              "67.4478"
            ]
          },
          "metadata": {},
          "execution_count": 11
        }
      ]
    },
    {
      "cell_type": "code",
      "source": [
        "usd = Rate().usd()\n",
        "usd"
      ],
      "metadata": {
        "colab": {
          "base_uri": "https://localhost:8080/"
        },
        "id": "Orq3G4WEaSDT",
        "outputId": "2e0e3064-beef-4431-cb13-23d8e6344f72"
      },
      "execution_count": null,
      "outputs": [
        {
          "output_type": "execute_result",
          "data": {
            "text/plain": [
              "71.0237"
            ]
          },
          "metadata": {},
          "execution_count": 40
        }
      ]
    },
    {
      "cell_type": "code",
      "source": [
        "full = Rate(format_='full')"
      ],
      "metadata": {
        "id": "b7N2L6uhbFin"
      },
      "execution_count": null,
      "outputs": []
    },
    {
      "cell_type": "code",
      "source": [
        "full.eur()"
      ],
      "metadata": {
        "colab": {
          "base_uri": "https://localhost:8080/"
        },
        "id": "Qo60a32ObKSR",
        "outputId": "1c95947d-c6d6-4e51-b366-3aa1ee2aa29c"
      },
      "execution_count": null,
      "outputs": [
        {
          "output_type": "execute_result",
          "data": {
            "text/plain": [
              "{'ID': 'R01239',\n",
              " 'NumCode': '978',\n",
              " 'CharCode': 'EUR',\n",
              " 'Nominal': 1,\n",
              " 'Name': 'Евро',\n",
              " 'Value': 67.4478,\n",
              " 'Previous': 66.7017}"
            ]
          },
          "metadata": {},
          "execution_count": 7
        }
      ]
    },
    {
      "cell_type": "code",
      "source": [
        "f_value = Rate(format_='value')"
      ],
      "metadata": {
        "id": "LgHh9P8scanB"
      },
      "execution_count": null,
      "outputs": []
    },
    {
      "cell_type": "code",
      "source": [
        "f_value.eur()"
      ],
      "metadata": {
        "colab": {
          "base_uri": "https://localhost:8080/"
        },
        "id": "QwXJKDr5cpGR",
        "outputId": "54f48a35-7ea6-45ac-d075-ee5162abe083"
      },
      "execution_count": null,
      "outputs": [
        {
          "output_type": "stream",
          "name": "stdout",
          "text": [
            "Текущее значение 67.4478\n",
            "Изменение на: 0.7460999999999984\n"
          ]
        }
      ]
    },
    {
      "cell_type": "markdown",
      "source": [
        "##Задание 3\n",
        "Напишите класс Designer, который учитывает количество международных премий. Подсказки в коде занятия в разделе “Домашнее задание задача 3”.\n",
        "\n",
        "###Комментарий по классу Designer такой:\n",
        "Напишите класс Designer, который учитывает количество международных премий для дизайнеров (из презентации: “Повышение на 1 грейд за каждые 7 баллов. Получение международной премии – это +2 балла”). Считайте, что при выходе на работу сотрудник уже имеет две премии и их количество не меняется со стажем (конечно если хотите это можно вручную менять).\n",
        "\n",
        "Класс Designer пишется по аналогии с классом Developer из материалов занятия.\n"
      ],
      "metadata": {
        "id": "0zfbE8kGfIO-"
      }
    },
    {
      "cell_type": "code",
      "source": [
        "# Родительский класс с общими базовыми классами\n",
        "class Employee:\n",
        "    def __init__(self, name, seniority):\n",
        "        self.name = name\n",
        "        self.seniority = seniority\n",
        "        \n",
        "        self.grade = 1\n",
        "    \n",
        "    def grade_up(self):\n",
        "        \"\"\"Повышает уровень сотрудника\"\"\"\n",
        "        self.grade += 1\n",
        "    \n",
        "    def publish_grade(self):\n",
        "        \"\"\"Публикация результатов аккредитации сотрудников\"\"\"\n",
        "        print(self.name, self.grade)\n",
        "    \n",
        "    def check_if_it_is_time_for_upgrade(self):\n",
        "        pass"
      ],
      "metadata": {
        "id": "40CIcvaufwby"
      },
      "execution_count": null,
      "outputs": []
    },
    {
      "cell_type": "code",
      "source": [
        "class Designer(Employee):\n",
        "    def __init__(self, name, seniority, prize):\n",
        "        super().__init__(name, seniority + prize*2)\n",
        "    \n",
        "    def check_if_it_is_time_for_upgrade(self):\n",
        "        # для каждой аккредитации увеличиваем счетчик на 1\n",
        "        # пока считаем, что все разработчики проходят аккредитацию\n",
        "        self.seniority += 1\n",
        "        \n",
        "        # условие повышения сотрудника из презентации\n",
        "        if self.seniority % 7 == 0: #проверяем, была ли эта аккредитация седьмой\n",
        "            self.grade_up()  #из родкласса отправляем метод, что пора повысить ===> \n",
        "            # в нашей корпоративной базе сотрудник повышен на 1 грейд\n",
        "        \n",
        "        # публикация результатов\n",
        "        return self.publish_grade()"
      ],
      "metadata": {
        "id": "dtKBQWXoyNAb"
      },
      "execution_count": null,
      "outputs": []
    },
    {
      "cell_type": "code",
      "source": [],
      "metadata": {
        "id": "2vNqgbRBTgrv"
      },
      "execution_count": null,
      "outputs": []
    },
    {
      "cell_type": "markdown",
      "source": [
        "'TypeError: init() takes 3 positional arguments but 4 were given\n",
        "\n",
        "https://stackoverflow.com/questions/46415700/typeerror-init-takes-3-positional-arguments-but-4-were-given"
      ],
      "metadata": {
        "id": "EMGr6ltT5Qq_"
      }
    },
    {
      "cell_type": "code",
      "source": [
        "apollon = Designer('Аполлон', 0, 2)"
      ],
      "metadata": {
        "id": "slGy5UG00Xik"
      },
      "execution_count": null,
      "outputs": []
    },
    {
      "cell_type": "code",
      "source": [
        "for i in range(20):\n",
        "    apollon.check_if_it_is_time_for_upgrade()"
      ],
      "metadata": {
        "id": "bbNIpBxjf-hC"
      },
      "execution_count": null,
      "outputs": []
    },
    {
      "cell_type": "markdown",
      "source": [
        "В последнем задании видимо проблема с том, что мы повышаем значение `seniority` на 2 на каждом шаге цикла `for i in range(20)`. Премия учитывается вначале один раз: `super().__init__(name, seniority + prize*2)`. Поэтому в методе `check_if_it_is_time_for_upgrade` корректнее повышать значение `seniority` на 1.\n",
        "\n"
      ],
      "metadata": {
        "id": "moiGoFRShgZB"
      }
    },
    {
      "cell_type": "markdown",
      "source": [
        "#Полезные ссылки\n",
        "[Найти максимальное значение и возврат (ключ, значение) пара](https://pythobyte.com/daily-python-puzzle-how-to-find-the-maximal-value-in-dictionary-ef61424c/)\n",
        "\n",
        "[Как перевести текст на новую строку в Python](https://pythonru.com/primery/kak-perevesti-tekst-na-novuju-stroku-v-python#:~:text=%D0%A1%D0%B8%D0%BC%D0%B2%D0%BE%D0%BB%20%D0%BD%D0%BE%D0%B2%D0%BE%D0%B9%20%D1%81%D1%82%D1%80%D0%BE%D0%BA%D0%B8%20%D0%B2%20Python%20%E2%80%94%20%D1%8D%D1%82%D0%BE%20%5Cn%20.,%D0%B1%D1%83%D0%B4%D0%B5%D1%82%20%D0%B8%D1%81%D0%BF%D0%BE%D0%BB%D1%8C%D0%B7%D0%BE%D0%B2%D0%B0%D1%82%D1%8C%D1%81%D1%8F%20%D0%B4%D0%BB%D1%8F%20%D1%80%D0%B0%D0%B7%D0%B4%D0%B5%D0%BB%D0%B5%D0%BD%D0%B8%D1%8F%20%D1%81%D1%82%D1%80%D0%BE%D0%BA)\n",
        "\n",
        "“[google colab import from file](https://stackoverflow.com/questions/49417985/import-local-file-to-google-colab/54304821#54304821)”. \n",
        "\n",
        "```\n",
        "from google.colab import drive\n",
        "drive.mount('/gdrive')\n",
        "%cd /gdrive/My\\ Drive/{location you want to move}\n",
        "```\n",
        "\n",
        "[Colab 1 с лекции](https://colab.research.google.com/drive/1DGOucd2XYBBmcT2W_mzQNrNUQcqdnCC3#scrollTo=HlLuExznIKDe)\n",
        "\n",
        "[Colab 2 с лекции__задача по ЯМ](https://colab.research.google.com/drive/1F-71Bzh3m68kc3hbGZWDYUR7xP7EDcRy)",
        "\n",
        "[Colab 3](https://colab.research.google.com/drive/1hhC2p0NikIPMVYLsNlU1P00QuOnpFH6i)",
        "\n",
        "[Colab 4](https://colab.research.google.com/drive/1A-iTNEL57rRhWcgJ4s9vbzt_4wsmar8Z#scrollTo=JSyeT0PmYJrY)"
      ],
      "metadata": {
        "id": "LMmdoCaGVV3r"
      }
    }
  ]
}
